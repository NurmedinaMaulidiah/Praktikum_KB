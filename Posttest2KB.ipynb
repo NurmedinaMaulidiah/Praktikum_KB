{
 "cells": [
  {
   "cell_type": "markdown",
   "id": "f8bdbe04-248a-47be-ae33-159c71b44dd1",
   "metadata": {},
   "source": [
    "# Nama : Nurmedina Maulidiah    \n",
    "# NIM  : 2109106012\n",
    "## Posttest 2 Kcerdasan Buatan"
   ]
  },
  {
   "cell_type": "markdown",
   "id": "0b182834-cbf2-44d0-937f-1898c5d8df16",
   "metadata": {},
   "source": [
    "## TAMPILIN JUMLAH RECORD"
   ]
  },
  {
   "cell_type": "code",
   "execution_count": 1,
   "id": "06421d36-612d-42c6-9d74-09253ae362ed",
   "metadata": {},
   "outputs": [
    {
     "name": "stdout",
     "output_type": "stream",
     "text": [
      "Jumlah record pada dataset ini adalah\n"
     ]
    },
    {
     "data": {
      "text/plain": [
       "2309"
      ]
     },
     "execution_count": 1,
     "metadata": {},
     "output_type": "execute_result"
    }
   ],
   "source": [
    "import pandas as pd\n",
    "import numpy as np\n",
    "dataFrame = pd.read_csv(\"stranger-things-mod.csv\" ,sep=';')\n",
    "print(\"Jumlah record pada dataset ini adalah\")\n",
    "dataFrame.shape[0]"
   ]
  },
  {
   "cell_type": "markdown",
   "id": "4a8488d7-845e-4812-9010-5f9a3d86ae8f",
   "metadata": {},
   "source": [
    "## TAMPILIN NAMA ATRIBUT"
   ]
  },
  {
   "cell_type": "code",
   "execution_count": 2,
   "id": "c7522cb3-398f-4656-b3de-2ca0ea29ef33",
   "metadata": {},
   "outputs": [
    {
     "name": "stdout",
     "output_type": "stream",
     "text": [
      "Nama-Nama Atribut dari Dataset ini adalah\n"
     ]
    },
    {
     "data": {
      "text/plain": [
       "Index(['seasonNum', 'episodeNum', 'sceneNum', 'sceneStart', 'sceneEnd',\n",
       "       'location', 'subLocation', 'characters', 'Unnamed: 8'],\n",
       "      dtype='object')"
      ]
     },
     "execution_count": 2,
     "metadata": {},
     "output_type": "execute_result"
    }
   ],
   "source": [
    "import pandas as pd\n",
    "dataFrame = pd.read_csv(\"stranger-things-mod.csv\" ,sep=';')\n",
    "print(\"Nama-Nama Atribut dari Dataset ini adalah\")\n",
    "dataFrame.columns"
   ]
  },
  {
   "cell_type": "markdown",
   "id": "0fb4c469-1ce6-4188-a347-450a488a4708",
   "metadata": {},
   "source": [
    "## JUMLAH ATRIBUT TIPE OBJEK"
   ]
  },
  {
   "cell_type": "code",
   "execution_count": 49,
   "id": "2b6bcfbd-3af3-4d08-a53a-3e5bd4dbcd91",
   "metadata": {},
   "outputs": [
    {
     "name": "stdout",
     "output_type": "stream",
     "text": [
      "JUMLAH ATRIBUT BERTIPE OBEJEK ADALAH SEBANYAK  4\n"
     ]
    }
   ],
   "source": [
    "info = {\n",
    "    'object_attributes' : 0,\n",
    "    'number_attributes' : 0,\n",
    "    'null_attributes' : 0\n",
    "}\n",
    "info['object_attributes'] = len(dataFrame.select_dtypes(['object']).columns)\n",
    "info['number_attributes'] = len(dataFrame.select_dtypes(['number']).columns)\n",
    "info['null_attributes'] = len(dataFrame.loc[:, dataFrame.isnull().any()].columns)\n",
    "print (\"JUMLAH ATRIBUT BERTIPE OBEJEK ADALAH SEBANYAK \",(info['number_attributes']))"
   ]
  },
  {
   "cell_type": "markdown",
   "id": "5a6ae246-f650-43ae-9050-0e00b4eeea0d",
   "metadata": {},
   "source": [
    "## JUMLAH ATRIBUT TIPE ANGKA"
   ]
  },
  {
   "cell_type": "code",
   "execution_count": 44,
   "id": "84abc681-7b36-4f26-916b-dbf085d2ccc0",
   "metadata": {},
   "outputs": [
    {
     "name": "stdout",
     "output_type": "stream",
     "text": [
      "JUMLAH ATRIBUT BERNILAI NULL ADALAH SEBANYAK  5\n"
     ]
    }
   ],
   "source": [
    "print (\"JUMLAH ATRIBUT BERTIPE ANGKA ADALAH SEBANYAK \",(info['object_attributes']))"
   ]
  },
  {
   "cell_type": "markdown",
   "id": "58074a7e-9777-408a-aece-10cffc7dd6f0",
   "metadata": {},
   "source": [
    "## JUMLAH ARTIBUT NILAI NULL"
   ]
  },
  {
   "cell_type": "code",
   "execution_count": 43,
   "id": "faf4350d-e357-4e17-9658-54b1c41d59c4",
   "metadata": {},
   "outputs": [
    {
     "name": "stdout",
     "output_type": "stream",
     "text": [
      "JUMLAH ATRIBUT BERNILAI NULL ADALAH SEBANYAK  9\n"
     ]
    }
   ],
   "source": [
    "print (\"JUMLAH ATRIBUT BERNILAI NULL ADALAH SEBANYAK \",(info['null_attributes']))"
   ]
  },
  {
   "cell_type": "markdown",
   "id": "46ba4730-5efc-47e6-9044-b8b6879e745a",
   "metadata": {},
   "source": [
    "## RATA-RATA DARI SETIAP KOLOM, STANDAR DEVIASI, NILAI MIN DAN MAX, Q1, Q2, Q3 DARI ATTRIBUTE BERTIPE ANGKA"
   ]
  },
  {
   "cell_type": "code",
   "execution_count": 18,
   "id": "3c655327-b28a-4e5b-ba86-42914f075a1c",
   "metadata": {},
   "outputs": [
    {
     "data": {
      "text/html": [
       "<div>\n",
       "<style scoped>\n",
       "    .dataframe tbody tr th:only-of-type {\n",
       "        vertical-align: middle;\n",
       "    }\n",
       "\n",
       "    .dataframe tbody tr th {\n",
       "        vertical-align: top;\n",
       "    }\n",
       "\n",
       "    .dataframe thead th {\n",
       "        text-align: right;\n",
       "    }\n",
       "</style>\n",
       "<table border=\"1\" class=\"dataframe\">\n",
       "  <thead>\n",
       "    <tr style=\"text-align: right;\">\n",
       "      <th></th>\n",
       "      <th>seasonNum</th>\n",
       "      <th>episodeNum</th>\n",
       "      <th>sceneNum</th>\n",
       "      <th>Unnamed: 8</th>\n",
       "    </tr>\n",
       "  </thead>\n",
       "  <tbody>\n",
       "    <tr>\n",
       "      <th>count</th>\n",
       "      <td>2308.000000</td>\n",
       "      <td>2308.000000</td>\n",
       "      <td>2308.000000</td>\n",
       "      <td>0.0</td>\n",
       "    </tr>\n",
       "    <tr>\n",
       "      <th>mean</th>\n",
       "      <td>1.611352</td>\n",
       "      <td>5.068024</td>\n",
       "      <td>71.108752</td>\n",
       "      <td>NaN</td>\n",
       "    </tr>\n",
       "    <tr>\n",
       "      <th>std</th>\n",
       "      <td>0.487549</td>\n",
       "      <td>2.527038</td>\n",
       "      <td>45.629127</td>\n",
       "      <td>NaN</td>\n",
       "    </tr>\n",
       "    <tr>\n",
       "      <th>min</th>\n",
       "      <td>1.000000</td>\n",
       "      <td>1.000000</td>\n",
       "      <td>0.000000</td>\n",
       "      <td>NaN</td>\n",
       "    </tr>\n",
       "    <tr>\n",
       "      <th>25%</th>\n",
       "      <td>1.000000</td>\n",
       "      <td>3.000000</td>\n",
       "      <td>33.000000</td>\n",
       "      <td>NaN</td>\n",
       "    </tr>\n",
       "    <tr>\n",
       "      <th>50%</th>\n",
       "      <td>2.000000</td>\n",
       "      <td>5.000000</td>\n",
       "      <td>67.000000</td>\n",
       "      <td>NaN</td>\n",
       "    </tr>\n",
       "    <tr>\n",
       "      <th>75%</th>\n",
       "      <td>2.000000</td>\n",
       "      <td>7.000000</td>\n",
       "      <td>103.000000</td>\n",
       "      <td>NaN</td>\n",
       "    </tr>\n",
       "    <tr>\n",
       "      <th>max</th>\n",
       "      <td>2.000000</td>\n",
       "      <td>9.000000</td>\n",
       "      <td>200.000000</td>\n",
       "      <td>NaN</td>\n",
       "    </tr>\n",
       "  </tbody>\n",
       "</table>\n",
       "</div>"
      ],
      "text/plain": [
       "         seasonNum   episodeNum     sceneNum  Unnamed: 8\n",
       "count  2308.000000  2308.000000  2308.000000         0.0\n",
       "mean      1.611352     5.068024    71.108752         NaN\n",
       "std       0.487549     2.527038    45.629127         NaN\n",
       "min       1.000000     1.000000     0.000000         NaN\n",
       "25%       1.000000     3.000000    33.000000         NaN\n",
       "50%       2.000000     5.000000    67.000000         NaN\n",
       "75%       2.000000     7.000000   103.000000         NaN\n",
       "max       2.000000     9.000000   200.000000         NaN"
      ]
     },
     "execution_count": 18,
     "metadata": {},
     "output_type": "execute_result"
    }
   ],
   "source": [
    "dataFrame.describe()"
   ]
  },
  {
   "cell_type": "markdown",
   "id": "e6c5437d-fd5f-4a7c-9a17-f0f7bf8f81d7",
   "metadata": {},
   "source": [
    "## NILAI KORELASI"
   ]
  },
  {
   "cell_type": "code",
   "execution_count": 21,
   "id": "46df7855-b0e0-44ca-9e2a-f190f6a02c8f",
   "metadata": {},
   "outputs": [
    {
     "data": {
      "text/html": [
       "<div>\n",
       "<style scoped>\n",
       "    .dataframe tbody tr th:only-of-type {\n",
       "        vertical-align: middle;\n",
       "    }\n",
       "\n",
       "    .dataframe tbody tr th {\n",
       "        vertical-align: top;\n",
       "    }\n",
       "\n",
       "    .dataframe thead th {\n",
       "        text-align: right;\n",
       "    }\n",
       "</style>\n",
       "<table border=\"1\" class=\"dataframe\">\n",
       "  <thead>\n",
       "    <tr style=\"text-align: right;\">\n",
       "      <th></th>\n",
       "      <th>seasonNum</th>\n",
       "      <th>episodeNum</th>\n",
       "      <th>sceneNum</th>\n",
       "      <th>Unnamed: 8</th>\n",
       "    </tr>\n",
       "  </thead>\n",
       "  <tbody>\n",
       "    <tr>\n",
       "      <th>seasonNum</th>\n",
       "      <td>1.000000</td>\n",
       "      <td>0.166418</td>\n",
       "      <td>0.257598</td>\n",
       "      <td>NaN</td>\n",
       "    </tr>\n",
       "    <tr>\n",
       "      <th>episodeNum</th>\n",
       "      <td>0.166418</td>\n",
       "      <td>1.000000</td>\n",
       "      <td>0.222324</td>\n",
       "      <td>NaN</td>\n",
       "    </tr>\n",
       "    <tr>\n",
       "      <th>sceneNum</th>\n",
       "      <td>0.257598</td>\n",
       "      <td>0.222324</td>\n",
       "      <td>1.000000</td>\n",
       "      <td>NaN</td>\n",
       "    </tr>\n",
       "    <tr>\n",
       "      <th>Unnamed: 8</th>\n",
       "      <td>NaN</td>\n",
       "      <td>NaN</td>\n",
       "      <td>NaN</td>\n",
       "      <td>NaN</td>\n",
       "    </tr>\n",
       "  </tbody>\n",
       "</table>\n",
       "</div>"
      ],
      "text/plain": [
       "            seasonNum  episodeNum  sceneNum  Unnamed: 8\n",
       "seasonNum    1.000000    0.166418  0.257598         NaN\n",
       "episodeNum   0.166418    1.000000  0.222324         NaN\n",
       "sceneNum     0.257598    0.222324  1.000000         NaN\n",
       "Unnamed: 8        NaN         NaN       NaN         NaN"
      ]
     },
     "execution_count": 21,
     "metadata": {},
     "output_type": "execute_result"
    }
   ],
   "source": [
    "dataFrame.corr()"
   ]
  },
  {
   "cell_type": "markdown",
   "id": "d243d7b9-4f55-43f3-879c-d289745ae2f7",
   "metadata": {},
   "source": [
    "## MENGUBAH INTEGER 3 ANGKA DIBELAKANG KOMA MENJADI DESIMAL"
   ]
  },
  {
   "cell_type": "code",
   "execution_count": 35,
   "id": "7a4150bc-9f4a-4cbb-9f8a-f68c8487eff9",
   "metadata": {},
   "outputs": [
    {
     "data": {
      "text/plain": [
       "0       1.0\n",
       "1       1.0\n",
       "2       1.0\n",
       "3       1.0\n",
       "4       1.0\n",
       "       ... \n",
       "2304    2.0\n",
       "2305    2.0\n",
       "2306    2.0\n",
       "2307    2.0\n",
       "2308    NaN\n",
       "Name: seasonNum, Length: 2309, dtype: float64"
      ]
     },
     "execution_count": 35,
     "metadata": {},
     "output_type": "execute_result"
    }
   ],
   "source": [
    "dataFrame['seasonNum'].round(3)"
   ]
  },
  {
   "cell_type": "markdown",
   "id": "ab4cdde8-81b3-4421-806f-676a7800ac0c",
   "metadata": {},
   "source": [
    "## MENAMPILKAN 10 RECORD PERTAM DARI ATRIBUT BERTIPE ANGKA"
   ]
  },
  {
   "cell_type": "code",
   "execution_count": 20,
   "id": "b690da70-be09-42ba-9853-c6f86a67f26d",
   "metadata": {},
   "outputs": [
    {
     "data": {
      "text/html": [
       "<div>\n",
       "<style scoped>\n",
       "    .dataframe tbody tr th:only-of-type {\n",
       "        vertical-align: middle;\n",
       "    }\n",
       "\n",
       "    .dataframe tbody tr th {\n",
       "        vertical-align: top;\n",
       "    }\n",
       "\n",
       "    .dataframe thead th {\n",
       "        text-align: right;\n",
       "    }\n",
       "</style>\n",
       "<table border=\"1\" class=\"dataframe\">\n",
       "  <thead>\n",
       "    <tr style=\"text-align: right;\">\n",
       "      <th></th>\n",
       "      <th>seasonNum</th>\n",
       "      <th>episodeNum</th>\n",
       "      <th>sceneNum</th>\n",
       "      <th>Unnamed: 8</th>\n",
       "    </tr>\n",
       "  </thead>\n",
       "  <tbody>\n",
       "    <tr>\n",
       "      <th>0</th>\n",
       "      <td>1.0</td>\n",
       "      <td>1.0</td>\n",
       "      <td>0.0</td>\n",
       "      <td>NaN</td>\n",
       "    </tr>\n",
       "    <tr>\n",
       "      <th>1</th>\n",
       "      <td>1.0</td>\n",
       "      <td>1.0</td>\n",
       "      <td>1.0</td>\n",
       "      <td>NaN</td>\n",
       "    </tr>\n",
       "    <tr>\n",
       "      <th>2</th>\n",
       "      <td>1.0</td>\n",
       "      <td>1.0</td>\n",
       "      <td>2.0</td>\n",
       "      <td>NaN</td>\n",
       "    </tr>\n",
       "    <tr>\n",
       "      <th>3</th>\n",
       "      <td>1.0</td>\n",
       "      <td>1.0</td>\n",
       "      <td>3.0</td>\n",
       "      <td>NaN</td>\n",
       "    </tr>\n",
       "    <tr>\n",
       "      <th>4</th>\n",
       "      <td>1.0</td>\n",
       "      <td>1.0</td>\n",
       "      <td>4.0</td>\n",
       "      <td>NaN</td>\n",
       "    </tr>\n",
       "    <tr>\n",
       "      <th>5</th>\n",
       "      <td>1.0</td>\n",
       "      <td>1.0</td>\n",
       "      <td>5.0</td>\n",
       "      <td>NaN</td>\n",
       "    </tr>\n",
       "    <tr>\n",
       "      <th>6</th>\n",
       "      <td>1.0</td>\n",
       "      <td>1.0</td>\n",
       "      <td>6.0</td>\n",
       "      <td>NaN</td>\n",
       "    </tr>\n",
       "    <tr>\n",
       "      <th>7</th>\n",
       "      <td>1.0</td>\n",
       "      <td>1.0</td>\n",
       "      <td>7.0</td>\n",
       "      <td>NaN</td>\n",
       "    </tr>\n",
       "    <tr>\n",
       "      <th>8</th>\n",
       "      <td>1.0</td>\n",
       "      <td>1.0</td>\n",
       "      <td>8.0</td>\n",
       "      <td>NaN</td>\n",
       "    </tr>\n",
       "    <tr>\n",
       "      <th>9</th>\n",
       "      <td>1.0</td>\n",
       "      <td>1.0</td>\n",
       "      <td>9.0</td>\n",
       "      <td>NaN</td>\n",
       "    </tr>\n",
       "  </tbody>\n",
       "</table>\n",
       "</div>"
      ],
      "text/plain": [
       "   seasonNum  episodeNum  sceneNum  Unnamed: 8\n",
       "0        1.0         1.0       0.0         NaN\n",
       "1        1.0         1.0       1.0         NaN\n",
       "2        1.0         1.0       2.0         NaN\n",
       "3        1.0         1.0       3.0         NaN\n",
       "4        1.0         1.0       4.0         NaN\n",
       "5        1.0         1.0       5.0         NaN\n",
       "6        1.0         1.0       6.0         NaN\n",
       "7        1.0         1.0       7.0         NaN\n",
       "8        1.0         1.0       8.0         NaN\n",
       "9        1.0         1.0       9.0         NaN"
      ]
     },
     "execution_count": 20,
     "metadata": {},
     "output_type": "execute_result"
    }
   ],
   "source": [
    "dh = dataFrame.select_dtypes(include=np.number)\n",
    "dh.head(10)"
   ]
  },
  {
   "cell_type": "markdown",
   "id": "9fe3eb7b-ac1d-4fba-9237-48fea4bad674",
   "metadata": {},
   "source": [
    "## MEMINDAHKAN ATRIBUT BERTIPE ANGKA KEDALAM FILE CSV BARU"
   ]
  },
  {
   "cell_type": "code",
   "execution_count": 74,
   "id": "a8235c85-3e15-401d-9817-e035ff55e3c0",
   "metadata": {},
   "outputs": [
    {
     "name": "stderr",
     "output_type": "stream",
     "text": [
      "C:\\Users\\User\\AppData\\Local\\Temp\\ipykernel_2192\\3562360485.py:1: FutureWarning: Passing a set as an indexer is deprecated and will raise in a future version. Use a list instead.\n",
      "  dataFrame[{'seasonNum', 'episodeNum', 'sceneNum', 'sceneStart', 'sceneEnd'}].to_csv(\"stranger-things-mod2.csv\")\n"
     ]
    }
   ],
   "source": [
    "dataFrame[{'seasonNum', 'episodeNum', 'sceneNum', 'sceneStart', 'sceneEnd'}].to_csv(\"stranger-things-mod2.csv\")"
   ]
  },
  {
   "cell_type": "code",
   "execution_count": null,
   "id": "598e6adb-9f57-4b99-aa4a-cb86db287d4e",
   "metadata": {},
   "outputs": [],
   "source": []
  }
 ],
 "metadata": {
  "kernelspec": {
   "display_name": "Python 3 (ipykernel)",
   "language": "python",
   "name": "python3"
  },
  "language_info": {
   "codemirror_mode": {
    "name": "ipython",
    "version": 3
   },
   "file_extension": ".py",
   "mimetype": "text/x-python",
   "name": "python",
   "nbconvert_exporter": "python",
   "pygments_lexer": "ipython3",
   "version": "3.10.7"
  }
 },
 "nbformat": 4,
 "nbformat_minor": 5
}
