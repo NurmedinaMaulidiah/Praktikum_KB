{
 "cells": [
  {
   "cell_type": "markdown",
   "id": "f5e297a1-71a3-4ecd-b898-504ca904217b",
   "metadata": {},
   "source": [
    "# Import Library"
   ]
  },
  {
   "cell_type": "code",
   "execution_count": 2,
   "id": "01a11e18-11ed-431f-8c47-6a8be4906e18",
   "metadata": {},
   "outputs": [
    {
     "name": "stderr",
     "output_type": "stream",
     "text": [
      "C:\\Users\\User\\AppData\\Local\\Programs\\Python\\Python310\\lib\\site-packages\\tqdm\\auto.py:22: TqdmWarning: IProgress not found. Please update jupyter and ipywidgets. See https://ipywidgets.readthedocs.io/en/stable/user_install.html\n",
      "  from .autonotebook import tqdm as notebook_tqdm\n"
     ]
    }
   ],
   "source": [
    "import numpy as np\n",
    "import tensorflow as tf\n",
    "from tensorflow.keras import Sequential\n",
    "from tensorflow.keras.layers import Dense\n",
    "import tensorflow_datasets as tfds\n",
    "from tensorflow import keras\n",
    "import matplotlib.pyplot as plt"
   ]
  },
  {
   "cell_type": "markdown",
   "id": "b3200659-a845-43e1-a3ca-8806dff99131",
   "metadata": {},
   "source": [
    "# Klasifikasi Dataset Tensorflow 'malaria'"
   ]
  },
  {
   "cell_type": "code",
   "execution_count": 3,
   "id": "53112ee1-eb9e-498d-ab4c-84a17032c79f",
   "metadata": {},
   "outputs": [],
   "source": [
    "(x_train_raw, y_train_raw), (x_test_raw, y_test_raw) = tfds.load(\"malaria\", split=[\"train[:70%]\", \"train[:30%]\"], batch_size=-1, as_supervised=True)"
   ]
  },
  {
   "cell_type": "markdown",
   "id": "e3078309-553f-42b6-8480-d3c19b1693b5",
   "metadata": {},
   "source": [
    "# Encoding Label Gambar"
   ]
  },
  {
   "cell_type": "code",
   "execution_count": 4,
   "id": "96a9aa22-b86e-428f-95a5-e33cbc2e645b",
   "metadata": {},
   "outputs": [],
   "source": [
    "num_class = 10\n",
    "\n",
    "#one hot encoding\n",
    "y_train = keras.utils.to_categorical(y_train_raw, num_class)\n",
    "y_test = keras.utils.to_categorical(y_test_raw, num_class)"
   ]
  },
  {
   "cell_type": "markdown",
   "id": "92607c81-1d8a-4cc7-ae48-8ced875e108e",
   "metadata": {},
   "source": [
    "# Preview Gambar"
   ]
  },
  {
   "cell_type": "code",
   "execution_count": 5,
   "id": "31e1f7a0-0302-4c11-b331-fb21ae4932e1",
   "metadata": {},
   "outputs": [
    {
     "data": {
      "image/png": "[encoded data removed]",
      "text/plain": [
       "<Figure size 640x480 with 9 Axes>"
      ]
     },
     "metadata": {},
     "output_type": "display_data"
    }
   ],
   "source": [
    "for i in range(9):\n",
    "    plt.subplot(3,3,i+1)\n",
    "    plt.imshow(x_train_raw[i])\n",
    "    plt.axis('off')\n",
    "plt.show()"
   ]
  },
  {
   "cell_type": "code",
   "execution_count": 6,
   "id": "792dd779-e40c-4924-af02-e0cf009c830c",
   "metadata": {},
   "outputs": [
    {
     "data": {
      "text/plain": [
       "TensorShape([19291, 382, 394, 3])"
      ]
     },
     "execution_count": 6,
     "metadata": {},
     "output_type": "execute_result"
    }
   ],
   "source": [
    "x_train_raw.shape"
   ]
  },
  {
   "cell_type": "code",
   "execution_count": 7,
   "id": "a2d3885b-d8f4-4e36-a682-3c8ca5de327d",
   "metadata": {},
   "outputs": [
    {
     "data": {
      "text/plain": [
       "TensorShape([8267, 382, 394, 3])"
      ]
     },
     "execution_count": 7,
     "metadata": {},
     "output_type": "execute_result"
    }
   ],
   "source": [
    "x_test_raw.shape"
   ]
  },
  {
   "cell_type": "code",
   "execution_count": 8,
   "id": "ae715d6c-be78-43e4-8926-6722e1088c22",
   "metadata": {},
   "outputs": [],
   "source": [
    "x_train = tf.image.resize(x_train_raw, (28,28))\n",
    "x_test = tf.image.resize(x_test_raw, (28,28))"
   ]
  },
  {
   "cell_type": "code",
   "execution_count": 9,
   "id": "fba392e0-acca-450a-92e2-4ab402c82d4d",
   "metadata": {},
   "outputs": [],
   "source": [
    "x_train = np.reshape(x_train.numpy(), (19291, 2352))\n",
    "x_test = np.reshape(x_test.numpy(), (8267,2352))"
   ]
  },
  {
   "cell_type": "code",
   "execution_count": 10,
   "id": "4000795a-30c6-4c93-88b3-8329ffe689ba",
   "metadata": {},
   "outputs": [],
   "source": [
    "# Normaliasai piksel pada gambar\n",
    "x_train = x_train.astype('float32')/255\n",
    "x_test = x_test.astype('float32')/255"
   ]
  },
  {
   "cell_type": "markdown",
   "id": "6aaeba53-26cf-4961-8818-87b1af45ad4c",
   "metadata": {},
   "source": [
    "# Membuat DNN\n",
    "## terdiri dari 3 layers dan aktivasi RELU\n",
    "### catatan : klasifikasi pada data hanya terdiri dari 2 klasifikasi oleh karena itu menggunakan 'sigmoid' dan jikan klasifikasi dataset lebih dari 2 maka menggunakan 'softmax'"
   ]
  },
  {
   "cell_type": "code",
   "execution_count": 11,
   "id": "f6846187-0ad5-4474-aaf5-beaeabfad54f",
   "metadata": {},
   "outputs": [],
   "source": [
    "model = Sequential(\n",
    "    [\n",
    "        Dense(512, activation='relu', input_dim = 2352),\n",
    "        Dense(256, activation='relu'),\n",
    "        Dense(128, activation='relu'),\n",
    "        Dense(10, activation='sigmoid') # kalo klasifikationnya ada dua duagnti jadi softmax\n",
    "    ]\n",
    ")"
   ]
  },
  {
   "cell_type": "code",
   "execution_count": 12,
   "id": "f771c289-da5d-44bb-a5ca-48d89a5e36e4",
   "metadata": {},
   "outputs": [
    {
     "name": "stdout",
     "output_type": "stream",
     "text": [
      "Model: \"sequential\"\n",
      "_________________________________________________________________\n",
      " Layer (type)                Output Shape              Param #   \n",
      "=================================================================\n",
      " dense (Dense)               (None, 512)               1204736   \n",
      "                                                                 \n",
      " dense_1 (Dense)             (None, 256)               131328    \n",
      "                                                                 \n",
      " dense_2 (Dense)             (None, 128)               32896     \n",
      "                                                                 \n",
      " dense_3 (Dense)             (None, 10)                1290      \n",
      "                                                                 \n",
      "=================================================================\n",
      "Total params: 1,370,250\n",
      "Trainable params: 1,370,250\n",
      "Non-trainable params: 0\n",
      "_________________________________________________________________\n"
     ]
    }
   ],
   "source": [
    "model.summary()"
   ]
  },
  {
   "cell_type": "markdown",
   "id": "3a62620d-4891-4700-97c7-e56b4236cb1b",
   "metadata": {},
   "source": [
    "# Optimize Model\n",
    "### catatan : jika dataset memiliki lebih dari 2 klasifikasi lossnya diganti categorical"
   ]
  },
  {
   "cell_type": "code",
   "execution_count": 13,
   "id": "1ac97a04-5351-4119-a648-47e5ee285e07",
   "metadata": {},
   "outputs": [],
   "source": [
    "model.compile(optimizer='adam', loss='binary_crossentropy', metrics=['accuracy']) #klo ada lebih dari 2 klasifikasi lossnya diganti categorical"
   ]
  },
  {
   "cell_type": "markdown",
   "id": "666d3b3b-36e7-4cae-8fe4-989a73751adb",
   "metadata": {},
   "source": [
    "# Fitting Training Model"
   ]
  },
  {
   "cell_type": "code",
   "execution_count": 14,
   "id": "708306fc-a3b5-4d8f-b31e-40057c5a91e3",
   "metadata": {},
   "outputs": [
    {
     "name": "stdout",
     "output_type": "stream",
     "text": [
      "Epoch 1/10\n",
      "151/151 [==============================] - 9s 30ms/step - loss: 0.1521 - accuracy: 0.5418 - val_loss: 0.1346 - val_accuracy: 0.5616\n",
      "Epoch 2/10\n",
      "151/151 [==============================] - 3s 23ms/step - loss: 0.1323 - accuracy: 0.6029 - val_loss: 0.1270 - val_accuracy: 0.6509\n",
      "Epoch 3/10\n",
      "151/151 [==============================] - 3s 23ms/step - loss: 0.1283 - accuracy: 0.6339 - val_loss: 0.1231 - val_accuracy: 0.6712\n",
      "Epoch 4/10\n",
      "151/151 [==============================] - 4s 23ms/step - loss: 0.1256 - accuracy: 0.6534 - val_loss: 0.1202 - val_accuracy: 0.6807\n",
      "Epoch 5/10\n",
      "151/151 [==============================] - 4s 23ms/step - loss: 0.1241 - accuracy: 0.6633 - val_loss: 0.1194 - val_accuracy: 0.6816\n",
      "Epoch 6/10\n",
      "151/151 [==============================] - 4s 24ms/step - loss: 0.1220 - accuracy: 0.6732 - val_loss: 0.1182 - val_accuracy: 0.6888\n",
      "Epoch 7/10\n",
      "151/151 [==============================] - 3s 23ms/step - loss: 0.1204 - accuracy: 0.6784 - val_loss: 0.1181 - val_accuracy: 0.6879\n",
      "Epoch 8/10\n",
      "151/151 [==============================] - 4s 24ms/step - loss: 0.1199 - accuracy: 0.6802 - val_loss: 0.1145 - val_accuracy: 0.7084\n",
      "Epoch 9/10\n",
      "151/151 [==============================] - 3s 22ms/step - loss: 0.1174 - accuracy: 0.6924 - val_loss: 0.1126 - val_accuracy: 0.7149\n",
      "Epoch 10/10\n",
      "151/151 [==============================] - 3s 23ms/step - loss: 0.1172 - accuracy: 0.6884 - val_loss: 0.1139 - val_accuracy: 0.7082\n"
     ]
    }
   ],
   "source": [
    "data = model.fit(x_train, y_train, epochs=10, batch_size=128, validation_data=(x_test, y_test))"
   ]
  },
  {
   "cell_type": "markdown",
   "id": "f7a90eab-0f74-493f-bdb3-7c13da2156c1",
   "metadata": {},
   "source": [
    "# Evaluasi Model yang telah di train"
   ]
  },
  {
   "cell_type": "code",
   "execution_count": 15,
   "id": "6ae07ae2-8071-46ba-b2d5-10087803ac6a",
   "metadata": {},
   "outputs": [
    {
     "name": "stdout",
     "output_type": "stream",
     "text": [
      "259/259 [==============================] - 2s 6ms/step - loss: 0.1139 - accuracy: 0.7082\n",
      "TEST LOSS          :  0.11390010267496109\n",
      "TEST ACCURACY      :  0.7082375884056091\n",
      "VALIDATION LOSS    : 0.1139000952243805\n",
      "VALIDATION ACCURACY: 0.7082375884056091\n"
     ]
    }
   ],
   "source": [
    "# batch size 128\n",
    "score = model.evaluate(x_test, y_test)\n",
    "print(\"TEST LOSS          : \", score[0])\n",
    "print(\"TEST ACCURACY      : \", score[1])\n",
    "print(\"VALIDATION LOSS    :\",data.history['val_loss'][-1])\n",
    "print(\"VALIDATION ACCURACY:\",data.history['val_accuracy'][-1])"
   ]
  },
  {
   "cell_type": "code",
   "execution_count": null,
   "id": "5a0d4978-a6ae-4f64-bb3d-0a8c4d655852",
   "metadata": {},
   "outputs": [],
   "source": []
  }
 ],
 "metadata": {
  "kernelspec": {
   "display_name": "Python 3 (ipykernel)",
   "language": "python",
   "name": "python3"
  },
  "language_info": {
   "codemirror_mode": {
    "name": "ipython",
    "version": 3
   },
   "file_extension": ".py",
   "mimetype": "text/x-python",
   "name": "python",
   "nbconvert_exporter": "python",
   "pygments_lexer": "ipython3",
   "version": "3.10.7"
  }
 },
 "nbformat": 4,
 "nbformat_minor": 5
}
