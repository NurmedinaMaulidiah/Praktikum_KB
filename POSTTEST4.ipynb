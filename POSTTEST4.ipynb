{
 "cells": [
  {
   "cell_type": "markdown",
   "id": "590efc77-e57a-489f-ab06-ed98216f0bc0",
   "metadata": {},
   "source": [
    "# Nama : Nurmedina Maulidiah    \n",
    "# NIM  : 2109106012\n",
    "## Posttest 4 Kecerdasan Buatan"
   ]
  },
  {
   "cell_type": "code",
   "execution_count": 1,
   "id": "b2e57702-f72d-4aea-8dbe-7c6667f6c185",
   "metadata": {},
   "outputs": [],
   "source": [
    "import pandas as pd\n",
    "import numpy as np\n",
    "from sklearn.model_selection import train_test_split"
   ]
  },
  {
   "cell_type": "code",
   "execution_count": 3,
   "id": "05458a7e-a561-46a6-a99e-af05b1230983",
   "metadata": {},
   "outputs": [],
   "source": [
    "dataset_split = pd.read_csv(\"winequalityN.csv\")"
   ]
  },
  {
   "cell_type": "code",
   "execution_count": 4,
   "id": "6709b2be-f090-4ac3-8b22-b1add003134b",
   "metadata": {},
   "outputs": [
    {
     "data": {
      "text/html": [
       "<div>\n",
       "<style scoped>\n",
       "    .dataframe tbody tr th:only-of-type {\n",
       "        vertical-align: middle;\n",
       "    }\n",
       "\n",
       "    .dataframe tbody tr th {\n",
       "        vertical-align: top;\n",
       "    }\n",
       "\n",
       "    .dataframe thead th {\n",
       "        text-align: right;\n",
       "    }\n",
       "</style>\n",
       "<table border=\"1\" class=\"dataframe\">\n",
       "  <thead>\n",
       "    <tr style=\"text-align: right;\">\n",
       "      <th></th>\n",
       "      <th>type</th>\n",
       "      <th>fixed acidity</th>\n",
       "      <th>volatile acidity</th>\n",
       "      <th>citric acid</th>\n",
       "      <th>residual sugar</th>\n",
       "      <th>chlorides</th>\n",
       "      <th>free sulfur dioxide</th>\n",
       "      <th>total sulfur dioxide</th>\n",
       "      <th>density</th>\n",
       "      <th>pH</th>\n",
       "      <th>sulphates</th>\n",
       "      <th>alcohol</th>\n",
       "      <th>quality</th>\n",
       "    </tr>\n",
       "  </thead>\n",
       "  <tbody>\n",
       "    <tr>\n",
       "      <th>0</th>\n",
       "      <td>white</td>\n",
       "      <td>7.0</td>\n",
       "      <td>0.27</td>\n",
       "      <td>0.36</td>\n",
       "      <td>20.7</td>\n",
       "      <td>0.045</td>\n",
       "      <td>45.0</td>\n",
       "      <td>170.0</td>\n",
       "      <td>1.0010</td>\n",
       "      <td>3.00</td>\n",
       "      <td>0.45</td>\n",
       "      <td>8.8</td>\n",
       "      <td>6</td>\n",
       "    </tr>\n",
       "    <tr>\n",
       "      <th>1</th>\n",
       "      <td>white</td>\n",
       "      <td>6.3</td>\n",
       "      <td>0.30</td>\n",
       "      <td>0.34</td>\n",
       "      <td>1.6</td>\n",
       "      <td>0.049</td>\n",
       "      <td>14.0</td>\n",
       "      <td>132.0</td>\n",
       "      <td>0.9940</td>\n",
       "      <td>3.30</td>\n",
       "      <td>0.49</td>\n",
       "      <td>9.5</td>\n",
       "      <td>6</td>\n",
       "    </tr>\n",
       "    <tr>\n",
       "      <th>2</th>\n",
       "      <td>white</td>\n",
       "      <td>8.1</td>\n",
       "      <td>0.28</td>\n",
       "      <td>0.40</td>\n",
       "      <td>6.9</td>\n",
       "      <td>0.050</td>\n",
       "      <td>30.0</td>\n",
       "      <td>97.0</td>\n",
       "      <td>0.9951</td>\n",
       "      <td>3.26</td>\n",
       "      <td>0.44</td>\n",
       "      <td>10.1</td>\n",
       "      <td>6</td>\n",
       "    </tr>\n",
       "    <tr>\n",
       "      <th>3</th>\n",
       "      <td>white</td>\n",
       "      <td>7.2</td>\n",
       "      <td>0.23</td>\n",
       "      <td>0.32</td>\n",
       "      <td>8.5</td>\n",
       "      <td>0.058</td>\n",
       "      <td>47.0</td>\n",
       "      <td>186.0</td>\n",
       "      <td>0.9956</td>\n",
       "      <td>3.19</td>\n",
       "      <td>0.40</td>\n",
       "      <td>9.9</td>\n",
       "      <td>6</td>\n",
       "    </tr>\n",
       "    <tr>\n",
       "      <th>4</th>\n",
       "      <td>white</td>\n",
       "      <td>7.2</td>\n",
       "      <td>0.23</td>\n",
       "      <td>0.32</td>\n",
       "      <td>8.5</td>\n",
       "      <td>0.058</td>\n",
       "      <td>47.0</td>\n",
       "      <td>186.0</td>\n",
       "      <td>0.9956</td>\n",
       "      <td>3.19</td>\n",
       "      <td>0.40</td>\n",
       "      <td>9.9</td>\n",
       "      <td>6</td>\n",
       "    </tr>\n",
       "  </tbody>\n",
       "</table>\n",
       "</div>"
      ],
      "text/plain": [
       "    type  fixed acidity  volatile acidity  citric acid  residual sugar  \\\n",
       "0  white            7.0              0.27         0.36            20.7   \n",
       "1  white            6.3              0.30         0.34             1.6   \n",
       "2  white            8.1              0.28         0.40             6.9   \n",
       "3  white            7.2              0.23         0.32             8.5   \n",
       "4  white            7.2              0.23         0.32             8.5   \n",
       "\n",
       "   chlorides  free sulfur dioxide  total sulfur dioxide  density    pH  \\\n",
       "0      0.045                 45.0                 170.0   1.0010  3.00   \n",
       "1      0.049                 14.0                 132.0   0.9940  3.30   \n",
       "2      0.050                 30.0                  97.0   0.9951  3.26   \n",
       "3      0.058                 47.0                 186.0   0.9956  3.19   \n",
       "4      0.058                 47.0                 186.0   0.9956  3.19   \n",
       "\n",
       "   sulphates  alcohol  quality  \n",
       "0       0.45      8.8        6  \n",
       "1       0.49      9.5        6  \n",
       "2       0.44     10.1        6  \n",
       "3       0.40      9.9        6  \n",
       "4       0.40      9.9        6  "
      ]
     },
     "execution_count": 4,
     "metadata": {},
     "output_type": "execute_result"
    }
   ],
   "source": [
    "dataset_split.head()"
   ]
  },
  {
   "cell_type": "code",
   "execution_count": 5,
   "id": "ed8c81ca-efa3-4f8d-a9db-1bb3986b7e52",
   "metadata": {},
   "outputs": [
    {
     "data": {
      "text/plain": [
       "(6497, 13)"
      ]
     },
     "execution_count": 5,
     "metadata": {},
     "output_type": "execute_result"
    }
   ],
   "source": [
    "dataset_split.shape"
   ]
  },
  {
   "cell_type": "markdown",
   "id": "da239bfc-7550-4478-8e32-a2d42a509bf8",
   "metadata": {},
   "source": [
    "# Membagi Training sett dan Testing Set"
   ]
  },
  {
   "cell_type": "code",
   "execution_count": 7,
   "id": "59852d0d-237a-4562-bc55-d00e9afa7e29",
   "metadata": {},
   "outputs": [],
   "source": [
    "x = dataset_split.iloc[:,:-1]\n",
    "y=dataset_split.iloc[:,-1]\n",
    "\n",
    "x_train, x_test, y_train, y_test = train_test_split(x,y, test_size=0.2)"
   ]
  },
  {
   "cell_type": "code",
   "execution_count": 8,
   "id": "d412e63f-6e9a-4e48-b167-3f794f7d09e7",
   "metadata": {},
   "outputs": [
    {
     "name": "stdout",
     "output_type": "stream",
     "text": [
      "dimensi x train :  (5197, 12)\n",
      "dimensi x test :  (1300, 12)\n",
      "dimensi y train :  (5197,)\n",
      "dimensi y test :  (1300,)\n"
     ]
    }
   ],
   "source": [
    "print (\"dimensi x train : \" , x_train.shape)\n",
    "print (\"dimensi x test : \" , x_test.shape)\n",
    "print (\"dimensi y train : \" , y_train.shape)\n",
    "print (\"dimensi y test : \" , y_test.shape)"
   ]
  },
  {
   "cell_type": "markdown",
   "id": "7a26635e-a598-49ca-a3d1-0318ea2c226d",
   "metadata": {},
   "source": [
    "# Data Cleaning"
   ]
  },
  {
   "cell_type": "markdown",
   "id": "ea9a561a-b7a4-4be8-86b7-5a54fcc54524",
   "metadata": {},
   "source": [
    "#### karena di dataset ini tdk ada nilai duplikat maka kita buat dataset baru untuk membuat nilai duplikat"
   ]
  },
  {
   "cell_type": "code",
   "execution_count": 237,
   "id": "3a5308d3-8c5b-4d71-aa5c-ca64dcd28341",
   "metadata": {},
   "outputs": [],
   "source": [
    "df = pd.read_csv(\"winequalityNrusak.csv\")"
   ]
  },
  {
   "cell_type": "code",
   "execution_count": 238,
   "id": "ca7051a9-abc6-46b9-bcea-07ac0f5cb78e",
   "metadata": {},
   "outputs": [
    {
     "data": {
      "text/html": [
       "<div>\n",
       "<style scoped>\n",
       "    .dataframe tbody tr th:only-of-type {\n",
       "        vertical-align: middle;\n",
       "    }\n",
       "\n",
       "    .dataframe tbody tr th {\n",
       "        vertical-align: top;\n",
       "    }\n",
       "\n",
       "    .dataframe thead th {\n",
       "        text-align: right;\n",
       "    }\n",
       "</style>\n",
       "<table border=\"1\" class=\"dataframe\">\n",
       "  <thead>\n",
       "    <tr style=\"text-align: right;\">\n",
       "      <th></th>\n",
       "      <th>type</th>\n",
       "      <th>fixed acidity</th>\n",
       "      <th>volatile acidity</th>\n",
       "      <th>citric acid</th>\n",
       "      <th>residual sugar</th>\n",
       "      <th>chlorides</th>\n",
       "      <th>free sulfur dioxide</th>\n",
       "      <th>total sulfur dioxide</th>\n",
       "      <th>density</th>\n",
       "      <th>pH</th>\n",
       "      <th>sulphates</th>\n",
       "      <th>alcohol</th>\n",
       "      <th>quality</th>\n",
       "    </tr>\n",
       "  </thead>\n",
       "  <tbody>\n",
       "    <tr>\n",
       "      <th>0</th>\n",
       "      <td>white</td>\n",
       "      <td>7.0</td>\n",
       "      <td>0.27</td>\n",
       "      <td>0.36</td>\n",
       "      <td>20.7</td>\n",
       "      <td>0.045</td>\n",
       "      <td>45.0</td>\n",
       "      <td>170.0</td>\n",
       "      <td>1.001</td>\n",
       "      <td>3.0</td>\n",
       "      <td>0.45</td>\n",
       "      <td>8.8</td>\n",
       "      <td>6</td>\n",
       "    </tr>\n",
       "    <tr>\n",
       "      <th>1</th>\n",
       "      <td>white</td>\n",
       "      <td>7.0</td>\n",
       "      <td>0.27</td>\n",
       "      <td>0.36</td>\n",
       "      <td>20.7</td>\n",
       "      <td>0.045</td>\n",
       "      <td>45.0</td>\n",
       "      <td>170.0</td>\n",
       "      <td>1.001</td>\n",
       "      <td>3.0</td>\n",
       "      <td>0.45</td>\n",
       "      <td>8.8</td>\n",
       "      <td>6</td>\n",
       "    </tr>\n",
       "    <tr>\n",
       "      <th>2</th>\n",
       "      <td>white</td>\n",
       "      <td>7.0</td>\n",
       "      <td>0.27</td>\n",
       "      <td>0.36</td>\n",
       "      <td>20.7</td>\n",
       "      <td>0.045</td>\n",
       "      <td>45.0</td>\n",
       "      <td>170.0</td>\n",
       "      <td>1.001</td>\n",
       "      <td>3.0</td>\n",
       "      <td>0.45</td>\n",
       "      <td>8.8</td>\n",
       "      <td>6</td>\n",
       "    </tr>\n",
       "    <tr>\n",
       "      <th>3</th>\n",
       "      <td>white</td>\n",
       "      <td>7.0</td>\n",
       "      <td>0.27</td>\n",
       "      <td>0.36</td>\n",
       "      <td>20.7</td>\n",
       "      <td>0.045</td>\n",
       "      <td>45.0</td>\n",
       "      <td>170.0</td>\n",
       "      <td>1.001</td>\n",
       "      <td>3.0</td>\n",
       "      <td>0.45</td>\n",
       "      <td>8.8</td>\n",
       "      <td>6</td>\n",
       "    </tr>\n",
       "    <tr>\n",
       "      <th>4</th>\n",
       "      <td>white</td>\n",
       "      <td>7.0</td>\n",
       "      <td>0.27</td>\n",
       "      <td>0.36</td>\n",
       "      <td>20.7</td>\n",
       "      <td>0.045</td>\n",
       "      <td>45.0</td>\n",
       "      <td>170.0</td>\n",
       "      <td>1.001</td>\n",
       "      <td>3.0</td>\n",
       "      <td>0.45</td>\n",
       "      <td>8.8</td>\n",
       "      <td>6</td>\n",
       "    </tr>\n",
       "  </tbody>\n",
       "</table>\n",
       "</div>"
      ],
      "text/plain": [
       "    type  fixed acidity  volatile acidity  citric acid  residual sugar  \\\n",
       "0  white            7.0              0.27         0.36            20.7   \n",
       "1  white            7.0              0.27         0.36            20.7   \n",
       "2  white            7.0              0.27         0.36            20.7   \n",
       "3  white            7.0              0.27         0.36            20.7   \n",
       "4  white            7.0              0.27         0.36            20.7   \n",
       "\n",
       "   chlorides  free sulfur dioxide  total sulfur dioxide  density   pH  \\\n",
       "0      0.045                 45.0                 170.0    1.001  3.0   \n",
       "1      0.045                 45.0                 170.0    1.001  3.0   \n",
       "2      0.045                 45.0                 170.0    1.001  3.0   \n",
       "3      0.045                 45.0                 170.0    1.001  3.0   \n",
       "4      0.045                 45.0                 170.0    1.001  3.0   \n",
       "\n",
       "   sulphates  alcohol  quality  \n",
       "0       0.45      8.8        6  \n",
       "1       0.45      8.8        6  \n",
       "2       0.45      8.8        6  \n",
       "3       0.45      8.8        6  \n",
       "4       0.45      8.8        6  "
      ]
     },
     "execution_count": 238,
     "metadata": {},
     "output_type": "execute_result"
    }
   ],
   "source": [
    "df.head()"
   ]
  },
  {
   "cell_type": "markdown",
   "id": "df7b3240-5539-4f4a-b972-3d77ed24dd85",
   "metadata": {},
   "source": [
    "## Menangani nilai null"
   ]
  },
  {
   "cell_type": "code",
   "execution_count": 240,
   "id": "ae7e3211-b1ec-4b46-aa35-800d466e1e82",
   "metadata": {},
   "outputs": [
    {
     "data": {
      "text/plain": [
       "type                     0\n",
       "fixed acidity           12\n",
       "volatile acidity        10\n",
       "citric acid              3\n",
       "residual sugar           2\n",
       "chlorides                2\n",
       "free sulfur dioxide      0\n",
       "total sulfur dioxide     0\n",
       "density                  0\n",
       "pH                       9\n",
       "sulphates                4\n",
       "alcohol                  0\n",
       "quality                  0\n",
       "dtype: int64"
      ]
     },
     "execution_count": 240,
     "metadata": {},
     "output_type": "execute_result"
    }
   ],
   "source": [
    "df.isna().sum()"
   ]
  },
  {
   "cell_type": "markdown",
   "id": "335446c9-597a-445a-9737-3ea6aa41ccaa",
   "metadata": {},
   "source": [
    "### terdapat nilai null pada atribut fixed city, volatile acidity, citric acid, residual sugar, chlorodies, sulphates, alcohol"
   ]
  },
  {
   "cell_type": "markdown",
   "id": "18238ff1-63aa-4253-9503-b8f470128721",
   "metadata": {},
   "source": [
    "## Mengubah nilai null yang ada di baris 29:32"
   ]
  },
  {
   "cell_type": "code",
   "execution_count": 286,
   "id": "bf7d174b-c66c-4861-a7db-212f7614ef84",
   "metadata": {},
   "outputs": [],
   "source": [
    "from sklearn.impute import SimpleImputer\n",
    "imputer = SimpleImputer(strategy=\"mean\")  "
   ]
  },
  {
   "cell_type": "code",
   "execution_count": 287,
   "id": "a996b6fe-e5bc-464f-bc08-e9210acaec5f",
   "metadata": {},
   "outputs": [],
   "source": [
    "df[\"fixed acidity\"] = imputer.fit_transform(df[[\"fixed acidity\"]])"
   ]
  },
  {
   "cell_type": "code",
   "execution_count": 288,
   "id": "53e28adb-c1d1-4f51-9b8d-c1996784551c",
   "metadata": {},
   "outputs": [
    {
     "data": {
      "text/html": [
       "<div>\n",
       "<style scoped>\n",
       "    .dataframe tbody tr th:only-of-type {\n",
       "        vertical-align: middle;\n",
       "    }\n",
       "\n",
       "    .dataframe tbody tr th {\n",
       "        vertical-align: top;\n",
       "    }\n",
       "\n",
       "    .dataframe thead th {\n",
       "        text-align: right;\n",
       "    }\n",
       "</style>\n",
       "<table border=\"1\" class=\"dataframe\">\n",
       "  <thead>\n",
       "    <tr style=\"text-align: right;\">\n",
       "      <th></th>\n",
       "      <th>type</th>\n",
       "      <th>fixed acidity</th>\n",
       "      <th>volatile acidity</th>\n",
       "      <th>citric acid</th>\n",
       "      <th>residual sugar</th>\n",
       "      <th>chlorides</th>\n",
       "      <th>free sulfur dioxide</th>\n",
       "      <th>total sulfur dioxide</th>\n",
       "      <th>density</th>\n",
       "      <th>pH</th>\n",
       "      <th>sulphates</th>\n",
       "      <th>alcohol</th>\n",
       "      <th>quality</th>\n",
       "    </tr>\n",
       "  </thead>\n",
       "  <tbody>\n",
       "    <tr>\n",
       "      <th>29</th>\n",
       "      <td>white</td>\n",
       "      <td>7.2</td>\n",
       "      <td>0.32</td>\n",
       "      <td>0.36</td>\n",
       "      <td>2.0</td>\n",
       "      <td>0.033</td>\n",
       "      <td>37.0</td>\n",
       "      <td>114.0</td>\n",
       "      <td>0.9906</td>\n",
       "      <td>3.10</td>\n",
       "      <td>0.71</td>\n",
       "      <td>12.3</td>\n",
       "      <td>7</td>\n",
       "    </tr>\n",
       "    <tr>\n",
       "      <th>30</th>\n",
       "      <td>white</td>\n",
       "      <td>8.5</td>\n",
       "      <td>0.24</td>\n",
       "      <td>0.39</td>\n",
       "      <td>10.4</td>\n",
       "      <td>0.044</td>\n",
       "      <td>20.0</td>\n",
       "      <td>142.0</td>\n",
       "      <td>0.9974</td>\n",
       "      <td>3.20</td>\n",
       "      <td>0.53</td>\n",
       "      <td>10.0</td>\n",
       "      <td>6</td>\n",
       "    </tr>\n",
       "    <tr>\n",
       "      <th>31</th>\n",
       "      <td>white</td>\n",
       "      <td>8.3</td>\n",
       "      <td>0.14</td>\n",
       "      <td>0.34</td>\n",
       "      <td>1.1</td>\n",
       "      <td>0.042</td>\n",
       "      <td>7.0</td>\n",
       "      <td>47.0</td>\n",
       "      <td>0.9934</td>\n",
       "      <td>3.47</td>\n",
       "      <td>0.40</td>\n",
       "      <td>10.2</td>\n",
       "      <td>6</td>\n",
       "    </tr>\n",
       "  </tbody>\n",
       "</table>\n",
       "</div>"
      ],
      "text/plain": [
       "     type  fixed acidity  volatile acidity  citric acid  residual sugar  \\\n",
       "29  white            7.2              0.32         0.36             2.0   \n",
       "30  white            8.5              0.24         0.39            10.4   \n",
       "31  white            8.3              0.14         0.34             1.1   \n",
       "\n",
       "    chlorides  free sulfur dioxide  total sulfur dioxide  density    pH  \\\n",
       "29      0.033                 37.0                 114.0   0.9906  3.10   \n",
       "30      0.044                 20.0                 142.0   0.9974  3.20   \n",
       "31      0.042                  7.0                  47.0   0.9934  3.47   \n",
       "\n",
       "    sulphates  alcohol  quality  \n",
       "29       0.71     12.3        7  \n",
       "30       0.53     10.0        6  \n",
       "31       0.40     10.2        6  "
      ]
     },
     "execution_count": 288,
     "metadata": {},
     "output_type": "execute_result"
    }
   ],
   "source": [
    "df[29:32]"
   ]
  },
  {
   "cell_type": "markdown",
   "id": "4c1b6f64-cf4b-41e0-8176-441099fc5338",
   "metadata": {},
   "source": [
    "## Mengubah nilai null yang ada pada variabel di atas"
   ]
  },
  {
   "cell_type": "code",
   "execution_count": 245,
   "id": "de2ac155-0c91-4acb-9fee-93a4c04a6a40",
   "metadata": {},
   "outputs": [],
   "source": [
    "from sklearn.impute import SimpleImputer\n",
    "imputer = SimpleImputer(strategy=\"mean\")  "
   ]
  },
  {
   "cell_type": "code",
   "execution_count": 246,
   "id": "51cf09c0-bc80-46c2-bd13-ed901b19c676",
   "metadata": {},
   "outputs": [],
   "source": [
    "df[\"volatile acidity\"] = imputer.fit_transform(df[[\"volatile acidity\"]])"
   ]
  },
  {
   "cell_type": "code",
   "execution_count": 247,
   "id": "15d32300-9b9e-4145-9a11-dfbfd6f2899e",
   "metadata": {},
   "outputs": [],
   "source": [
    "df[\"citric acid\"] = imputer.fit_transform(df[[\"citric acid\"]])"
   ]
  },
  {
   "cell_type": "code",
   "execution_count": 248,
   "id": "2ddacfb4-9abe-44ed-94e5-5c583d44a00c",
   "metadata": {},
   "outputs": [],
   "source": [
    "df[\"residual sugar\"] = imputer.fit_transform(df[[\"residual sugar\"]])"
   ]
  },
  {
   "cell_type": "code",
   "execution_count": 249,
   "id": "616ce769-eb62-49bf-8f41-1c96092271c9",
   "metadata": {},
   "outputs": [],
   "source": [
    "df[\"chlorides\"] = imputer.fit_transform(df[[\"chlorides\"]])"
   ]
  },
  {
   "cell_type": "code",
   "execution_count": 250,
   "id": "51af23e8-7c18-4d87-a460-58e18ffa602b",
   "metadata": {},
   "outputs": [],
   "source": [
    "df[\"sulphates\"] = imputer.fit_transform(df[[\"sulphates\"]])"
   ]
  },
  {
   "cell_type": "code",
   "execution_count": 251,
   "id": "f465f277-7322-47f3-bd40-68801722093a",
   "metadata": {},
   "outputs": [],
   "source": [
    "df[\"pH\"] = imputer.fit_transform(df[[\"pH\"]])"
   ]
  },
  {
   "cell_type": "code",
   "execution_count": 252,
   "id": "ee3ba9e7-3cbe-466c-8d13-5edd4be0323c",
   "metadata": {},
   "outputs": [
    {
     "data": {
      "text/plain": [
       "type                    0\n",
       "fixed acidity           0\n",
       "volatile acidity        0\n",
       "citric acid             0\n",
       "residual sugar          0\n",
       "chlorides               0\n",
       "free sulfur dioxide     0\n",
       "total sulfur dioxide    0\n",
       "density                 0\n",
       "pH                      0\n",
       "sulphates               0\n",
       "alcohol                 0\n",
       "quality                 0\n",
       "dtype: int64"
      ]
     },
     "execution_count": 252,
     "metadata": {},
     "output_type": "execute_result"
    }
   ],
   "source": [
    "df.isna().sum()"
   ]
  },
  {
   "cell_type": "markdown",
   "id": "7a26f4a4-cdb4-4788-8c73-c21acf6f5723",
   "metadata": {},
   "source": [
    "## Menangani nilai Duplicate"
   ]
  },
  {
   "cell_type": "code",
   "execution_count": 253,
   "id": "bb85f662-5c45-4d1d-9cf3-ff195c33f27b",
   "metadata": {},
   "outputs": [
    {
     "data": {
      "text/html": [
       "<div>\n",
       "<style scoped>\n",
       "    .dataframe tbody tr th:only-of-type {\n",
       "        vertical-align: middle;\n",
       "    }\n",
       "\n",
       "    .dataframe tbody tr th {\n",
       "        vertical-align: top;\n",
       "    }\n",
       "\n",
       "    .dataframe thead th {\n",
       "        text-align: right;\n",
       "    }\n",
       "</style>\n",
       "<table border=\"1\" class=\"dataframe\">\n",
       "  <thead>\n",
       "    <tr style=\"text-align: right;\">\n",
       "      <th></th>\n",
       "      <th>type</th>\n",
       "      <th>fixed acidity</th>\n",
       "      <th>volatile acidity</th>\n",
       "      <th>citric acid</th>\n",
       "      <th>residual sugar</th>\n",
       "      <th>chlorides</th>\n",
       "      <th>free sulfur dioxide</th>\n",
       "      <th>total sulfur dioxide</th>\n",
       "      <th>density</th>\n",
       "      <th>pH</th>\n",
       "      <th>sulphates</th>\n",
       "      <th>alcohol</th>\n",
       "      <th>quality</th>\n",
       "    </tr>\n",
       "  </thead>\n",
       "  <tbody>\n",
       "    <tr>\n",
       "      <th>1</th>\n",
       "      <td>white</td>\n",
       "      <td>7.0</td>\n",
       "      <td>0.270</td>\n",
       "      <td>0.36</td>\n",
       "      <td>20.7</td>\n",
       "      <td>0.045</td>\n",
       "      <td>45.0</td>\n",
       "      <td>170.0</td>\n",
       "      <td>1.00100</td>\n",
       "      <td>3.00</td>\n",
       "      <td>0.45</td>\n",
       "      <td>8.8</td>\n",
       "      <td>6</td>\n",
       "    </tr>\n",
       "    <tr>\n",
       "      <th>2</th>\n",
       "      <td>white</td>\n",
       "      <td>7.0</td>\n",
       "      <td>0.270</td>\n",
       "      <td>0.36</td>\n",
       "      <td>20.7</td>\n",
       "      <td>0.045</td>\n",
       "      <td>45.0</td>\n",
       "      <td>170.0</td>\n",
       "      <td>1.00100</td>\n",
       "      <td>3.00</td>\n",
       "      <td>0.45</td>\n",
       "      <td>8.8</td>\n",
       "      <td>6</td>\n",
       "    </tr>\n",
       "    <tr>\n",
       "      <th>3</th>\n",
       "      <td>white</td>\n",
       "      <td>7.0</td>\n",
       "      <td>0.270</td>\n",
       "      <td>0.36</td>\n",
       "      <td>20.7</td>\n",
       "      <td>0.045</td>\n",
       "      <td>45.0</td>\n",
       "      <td>170.0</td>\n",
       "      <td>1.00100</td>\n",
       "      <td>3.00</td>\n",
       "      <td>0.45</td>\n",
       "      <td>8.8</td>\n",
       "      <td>6</td>\n",
       "    </tr>\n",
       "    <tr>\n",
       "      <th>4</th>\n",
       "      <td>white</td>\n",
       "      <td>7.0</td>\n",
       "      <td>0.270</td>\n",
       "      <td>0.36</td>\n",
       "      <td>20.7</td>\n",
       "      <td>0.045</td>\n",
       "      <td>45.0</td>\n",
       "      <td>170.0</td>\n",
       "      <td>1.00100</td>\n",
       "      <td>3.00</td>\n",
       "      <td>0.45</td>\n",
       "      <td>8.8</td>\n",
       "      <td>6</td>\n",
       "    </tr>\n",
       "    <tr>\n",
       "      <th>5</th>\n",
       "      <td>white</td>\n",
       "      <td>7.0</td>\n",
       "      <td>0.270</td>\n",
       "      <td>0.36</td>\n",
       "      <td>20.7</td>\n",
       "      <td>0.045</td>\n",
       "      <td>45.0</td>\n",
       "      <td>170.0</td>\n",
       "      <td>1.00100</td>\n",
       "      <td>3.00</td>\n",
       "      <td>0.45</td>\n",
       "      <td>8.8</td>\n",
       "      <td>6</td>\n",
       "    </tr>\n",
       "    <tr>\n",
       "      <th>...</th>\n",
       "      <td>...</td>\n",
       "      <td>...</td>\n",
       "      <td>...</td>\n",
       "      <td>...</td>\n",
       "      <td>...</td>\n",
       "      <td>...</td>\n",
       "      <td>...</td>\n",
       "      <td>...</td>\n",
       "      <td>...</td>\n",
       "      <td>...</td>\n",
       "      <td>...</td>\n",
       "      <td>...</td>\n",
       "      <td>...</td>\n",
       "    </tr>\n",
       "    <tr>\n",
       "      <th>6461</th>\n",
       "      <td>red</td>\n",
       "      <td>7.2</td>\n",
       "      <td>0.695</td>\n",
       "      <td>0.13</td>\n",
       "      <td>2.0</td>\n",
       "      <td>0.076</td>\n",
       "      <td>12.0</td>\n",
       "      <td>20.0</td>\n",
       "      <td>0.99546</td>\n",
       "      <td>3.29</td>\n",
       "      <td>0.54</td>\n",
       "      <td>10.1</td>\n",
       "      <td>5</td>\n",
       "    </tr>\n",
       "    <tr>\n",
       "      <th>6462</th>\n",
       "      <td>red</td>\n",
       "      <td>7.2</td>\n",
       "      <td>0.695</td>\n",
       "      <td>0.13</td>\n",
       "      <td>2.0</td>\n",
       "      <td>0.076</td>\n",
       "      <td>12.0</td>\n",
       "      <td>20.0</td>\n",
       "      <td>0.99546</td>\n",
       "      <td>3.29</td>\n",
       "      <td>0.54</td>\n",
       "      <td>10.1</td>\n",
       "      <td>5</td>\n",
       "    </tr>\n",
       "    <tr>\n",
       "      <th>6465</th>\n",
       "      <td>red</td>\n",
       "      <td>7.2</td>\n",
       "      <td>0.695</td>\n",
       "      <td>0.13</td>\n",
       "      <td>2.0</td>\n",
       "      <td>0.076</td>\n",
       "      <td>12.0</td>\n",
       "      <td>20.0</td>\n",
       "      <td>0.99546</td>\n",
       "      <td>3.29</td>\n",
       "      <td>0.54</td>\n",
       "      <td>10.1</td>\n",
       "      <td>5</td>\n",
       "    </tr>\n",
       "    <tr>\n",
       "      <th>6479</th>\n",
       "      <td>red</td>\n",
       "      <td>6.2</td>\n",
       "      <td>0.560</td>\n",
       "      <td>0.09</td>\n",
       "      <td>1.7</td>\n",
       "      <td>0.053</td>\n",
       "      <td>24.0</td>\n",
       "      <td>32.0</td>\n",
       "      <td>0.99402</td>\n",
       "      <td>3.54</td>\n",
       "      <td>0.60</td>\n",
       "      <td>11.3</td>\n",
       "      <td>5</td>\n",
       "    </tr>\n",
       "    <tr>\n",
       "      <th>6494</th>\n",
       "      <td>red</td>\n",
       "      <td>6.3</td>\n",
       "      <td>0.510</td>\n",
       "      <td>0.13</td>\n",
       "      <td>2.3</td>\n",
       "      <td>0.076</td>\n",
       "      <td>29.0</td>\n",
       "      <td>40.0</td>\n",
       "      <td>0.99574</td>\n",
       "      <td>3.42</td>\n",
       "      <td>0.75</td>\n",
       "      <td>11.0</td>\n",
       "      <td>6</td>\n",
       "    </tr>\n",
       "  </tbody>\n",
       "</table>\n",
       "<p>1174 rows × 13 columns</p>\n",
       "</div>"
      ],
      "text/plain": [
       "       type  fixed acidity  volatile acidity  citric acid  residual sugar  \\\n",
       "1     white            7.0             0.270         0.36            20.7   \n",
       "2     white            7.0             0.270         0.36            20.7   \n",
       "3     white            7.0             0.270         0.36            20.7   \n",
       "4     white            7.0             0.270         0.36            20.7   \n",
       "5     white            7.0             0.270         0.36            20.7   \n",
       "...     ...            ...               ...          ...             ...   \n",
       "6461    red            7.2             0.695         0.13             2.0   \n",
       "6462    red            7.2             0.695         0.13             2.0   \n",
       "6465    red            7.2             0.695         0.13             2.0   \n",
       "6479    red            6.2             0.560         0.09             1.7   \n",
       "6494    red            6.3             0.510         0.13             2.3   \n",
       "\n",
       "      chlorides  free sulfur dioxide  total sulfur dioxide  density    pH  \\\n",
       "1         0.045                 45.0                 170.0  1.00100  3.00   \n",
       "2         0.045                 45.0                 170.0  1.00100  3.00   \n",
       "3         0.045                 45.0                 170.0  1.00100  3.00   \n",
       "4         0.045                 45.0                 170.0  1.00100  3.00   \n",
       "5         0.045                 45.0                 170.0  1.00100  3.00   \n",
       "...         ...                  ...                   ...      ...   ...   \n",
       "6461      0.076                 12.0                  20.0  0.99546  3.29   \n",
       "6462      0.076                 12.0                  20.0  0.99546  3.29   \n",
       "6465      0.076                 12.0                  20.0  0.99546  3.29   \n",
       "6479      0.053                 24.0                  32.0  0.99402  3.54   \n",
       "6494      0.076                 29.0                  40.0  0.99574  3.42   \n",
       "\n",
       "      sulphates  alcohol  quality  \n",
       "1          0.45      8.8        6  \n",
       "2          0.45      8.8        6  \n",
       "3          0.45      8.8        6  \n",
       "4          0.45      8.8        6  \n",
       "5          0.45      8.8        6  \n",
       "...         ...      ...      ...  \n",
       "6461       0.54     10.1        5  \n",
       "6462       0.54     10.1        5  \n",
       "6465       0.54     10.1        5  \n",
       "6479       0.60     11.3        5  \n",
       "6494       0.75     11.0        6  \n",
       "\n",
       "[1174 rows x 13 columns]"
      ]
     },
     "execution_count": 253,
     "metadata": {},
     "output_type": "execute_result"
    }
   ],
   "source": [
    "df[df.duplicated()]"
   ]
  },
  {
   "cell_type": "code",
   "execution_count": 254,
   "id": "52a5b1e3-c98e-4f99-8b40-a3b6e30f3f6d",
   "metadata": {},
   "outputs": [
    {
     "data": {
      "text/plain": [
       "<bound method NDFrame._add_numeric_operations.<locals>.sum of 0       False\n",
       "1        True\n",
       "2        True\n",
       "3        True\n",
       "4        True\n",
       "        ...  \n",
       "6492    False\n",
       "6493    False\n",
       "6494     True\n",
       "6495    False\n",
       "6496    False\n",
       "Length: 6497, dtype: bool>"
      ]
     },
     "execution_count": 254,
     "metadata": {},
     "output_type": "execute_result"
    }
   ],
   "source": [
    "df.duplicated().sum"
   ]
  },
  {
   "cell_type": "code",
   "execution_count": 255,
   "id": "89d06f82-4b4d-43ff-90ba-ee539bc86239",
   "metadata": {},
   "outputs": [],
   "source": [
    "df.drop_duplicates(inplace=True)"
   ]
  },
  {
   "cell_type": "code",
   "execution_count": 256,
   "id": "81886a93-cdcd-4d86-a8e4-cbc552f7cac2",
   "metadata": {},
   "outputs": [
    {
     "data": {
      "text/html": [
       "<div>\n",
       "<style scoped>\n",
       "    .dataframe tbody tr th:only-of-type {\n",
       "        vertical-align: middle;\n",
       "    }\n",
       "\n",
       "    .dataframe tbody tr th {\n",
       "        vertical-align: top;\n",
       "    }\n",
       "\n",
       "    .dataframe thead th {\n",
       "        text-align: right;\n",
       "    }\n",
       "</style>\n",
       "<table border=\"1\" class=\"dataframe\">\n",
       "  <thead>\n",
       "    <tr style=\"text-align: right;\">\n",
       "      <th></th>\n",
       "      <th>type</th>\n",
       "      <th>fixed acidity</th>\n",
       "      <th>volatile acidity</th>\n",
       "      <th>citric acid</th>\n",
       "      <th>residual sugar</th>\n",
       "      <th>chlorides</th>\n",
       "      <th>free sulfur dioxide</th>\n",
       "      <th>total sulfur dioxide</th>\n",
       "      <th>density</th>\n",
       "      <th>pH</th>\n",
       "      <th>sulphates</th>\n",
       "      <th>alcohol</th>\n",
       "      <th>quality</th>\n",
       "    </tr>\n",
       "  </thead>\n",
       "  <tbody>\n",
       "  </tbody>\n",
       "</table>\n",
       "</div>"
      ],
      "text/plain": [
       "Empty DataFrame\n",
       "Columns: [type, fixed acidity, volatile acidity, citric acid, residual sugar, chlorides, free sulfur dioxide, total sulfur dioxide, density, pH, sulphates, alcohol, quality]\n",
       "Index: []"
      ]
     },
     "execution_count": 256,
     "metadata": {},
     "output_type": "execute_result"
    }
   ],
   "source": [
    "df[df.duplicated()]"
   ]
  },
  {
   "cell_type": "markdown",
   "id": "f26beee5-1b54-431d-a607-18cd4bbf9681",
   "metadata": {},
   "source": [
    "# Normalisasi"
   ]
  },
  {
   "cell_type": "markdown",
   "id": "2f4753d5-71eb-4c5a-b49f-21a8bff2ec26",
   "metadata": {},
   "source": [
    "### setelah kita cleaning semua dataset yang kita punya, selanjutnya kita lakukan normalisasi"
   ]
  },
  {
   "cell_type": "code",
   "execution_count": 257,
   "id": "77f0c173-c396-4530-aa50-adf6537b0a7a",
   "metadata": {},
   "outputs": [],
   "source": [
    "from sklearn.preprocessing import MinMaxScaler"
   ]
  },
  {
   "cell_type": "code",
   "execution_count": 258,
   "id": "d87045fa-c1ea-474e-be2e-239ee461dba4",
   "metadata": {},
   "outputs": [],
   "source": [
    "min_max_scaler = MinMaxScaler()"
   ]
  },
  {
   "cell_type": "code",
   "execution_count": 268,
   "id": "57aaa63b-be7a-43bb-9d0a-1acd83367be8",
   "metadata": {},
   "outputs": [],
   "source": [
    "x_scaled = min_max_scaler.fit_transform(\n",
    "    df[['residual sugar']]\n",
    ")"
   ]
  },
  {
   "cell_type": "code",
   "execution_count": 269,
   "id": "8c3b82be-bf38-4b7f-a684-13888ae1c83b",
   "metadata": {},
   "outputs": [
    {
     "data": {
      "text/html": [
       "<div>\n",
       "<style scoped>\n",
       "    .dataframe tbody tr th:only-of-type {\n",
       "        vertical-align: middle;\n",
       "    }\n",
       "\n",
       "    .dataframe tbody tr th {\n",
       "        vertical-align: top;\n",
       "    }\n",
       "\n",
       "    .dataframe thead th {\n",
       "        text-align: right;\n",
       "    }\n",
       "</style>\n",
       "<table border=\"1\" class=\"dataframe\">\n",
       "  <thead>\n",
       "    <tr style=\"text-align: right;\">\n",
       "      <th></th>\n",
       "      <th>0</th>\n",
       "    </tr>\n",
       "  </thead>\n",
       "  <tbody>\n",
       "    <tr>\n",
       "      <th>0</th>\n",
       "      <td>0.308282</td>\n",
       "    </tr>\n",
       "    <tr>\n",
       "      <th>1</th>\n",
       "      <td>0.055215</td>\n",
       "    </tr>\n",
       "    <tr>\n",
       "      <th>2</th>\n",
       "      <td>0.009202</td>\n",
       "    </tr>\n",
       "    <tr>\n",
       "      <th>3</th>\n",
       "      <td>0.013804</td>\n",
       "    </tr>\n",
       "    <tr>\n",
       "      <th>4</th>\n",
       "      <td>0.286043</td>\n",
       "    </tr>\n",
       "  </tbody>\n",
       "</table>\n",
       "</div>"
      ],
      "text/plain": [
       "          0\n",
       "0  0.308282\n",
       "1  0.055215\n",
       "2  0.009202\n",
       "3  0.013804\n",
       "4  0.286043"
      ]
     },
     "execution_count": 269,
     "metadata": {},
     "output_type": "execute_result"
    }
   ],
   "source": [
    "data_normalization = pd.DataFrame(x_scaled)\n",
    "data_normalization.head()"
   ]
  },
  {
   "cell_type": "markdown",
   "id": "d53dbc1c-1443-4f74-a6ec-d381d11ebf41",
   "metadata": {},
   "source": [
    "# Data Transforming (Standarisasi)"
   ]
  },
  {
   "cell_type": "markdown",
   "id": "16b1859e-0e69-4714-8ba5-020b3b3a0850",
   "metadata": {},
   "source": [
    "### setelah kita cleaning semua dataset yang kita punya, selanjutnya kita lakukan standarisasi"
   ]
  },
  {
   "cell_type": "code",
   "execution_count": 291,
   "id": "343a0c52-2485-47e9-af8d-887dc5d06f8f",
   "metadata": {},
   "outputs": [
    {
     "data": {
      "text/plain": [
       "fixed acidity            1.295652\n",
       "volatile acidity         0.164636\n",
       "citric acid              0.145254\n",
       "residual sugar           4.757758\n",
       "chlorides                0.035033\n",
       "free sulfur dioxide     17.748034\n",
       "total sulfur dioxide    56.517505\n",
       "density                  0.002998\n",
       "pH                       0.160736\n",
       "sulphates                0.148803\n",
       "alcohol                  1.192620\n",
       "quality                  0.873188\n",
       "dtype: float64"
      ]
     },
     "execution_count": 291,
     "metadata": {},
     "output_type": "execute_result"
    }
   ],
   "source": [
    "np.std(df)"
   ]
  },
  {
   "cell_type": "code",
   "execution_count": 271,
   "id": "f6be5aae-d433-40f2-ba1e-5a405824a0d7",
   "metadata": {},
   "outputs": [],
   "source": [
    "from sklearn.preprocessing import StandardScaler"
   ]
  },
  {
   "cell_type": "code",
   "execution_count": 272,
   "id": "5cd88c53-dd6f-4df1-b546-911d99548992",
   "metadata": {},
   "outputs": [],
   "source": [
    "ss = StandardScaler()"
   ]
  },
  {
   "cell_type": "code",
   "execution_count": 273,
   "id": "44933dc3-d63c-4387-ba3f-c0f85a0b3319",
   "metadata": {},
   "outputs": [],
   "source": [
    "x_scaled2 = ss.fit_transform(\n",
    "     df[['fixed acidity', 'volatile acidity', 'citric acid', 'residual sugar', 'chlorides', 'free sulfur dioxide','total sulfur dioxide', 'density', 'pH', 'sulphates', 'alcohol', 'quality' ]]\n",
    ")"
   ]
  },
  {
   "cell_type": "code",
   "execution_count": 274,
   "id": "31019d5f-a4fb-4b04-a8bf-9cd6f7278209",
   "metadata": {},
   "outputs": [
    {
     "data": {
      "text/html": [
       "<div>\n",
       "<style scoped>\n",
       "    .dataframe tbody tr th:only-of-type {\n",
       "        vertical-align: middle;\n",
       "    }\n",
       "\n",
       "    .dataframe tbody tr th {\n",
       "        vertical-align: top;\n",
       "    }\n",
       "\n",
       "    .dataframe thead th {\n",
       "        text-align: right;\n",
       "    }\n",
       "</style>\n",
       "<table border=\"1\" class=\"dataframe\">\n",
       "  <thead>\n",
       "    <tr style=\"text-align: right;\">\n",
       "      <th></th>\n",
       "      <th>0</th>\n",
       "      <th>1</th>\n",
       "      <th>2</th>\n",
       "      <th>3</th>\n",
       "      <th>4</th>\n",
       "      <th>5</th>\n",
       "      <th>6</th>\n",
       "      <th>7</th>\n",
       "      <th>8</th>\n",
       "      <th>9</th>\n",
       "      <th>10</th>\n",
       "      <th>11</th>\n",
       "    </tr>\n",
       "  </thead>\n",
       "  <tbody>\n",
       "    <tr>\n",
       "      <th>0</th>\n",
       "      <td>-0.164161</td>\n",
       "      <td>-0.441361</td>\n",
       "      <td>0.280670</td>\n",
       "      <td>3.473584</td>\n",
       "      <td>-0.316926</td>\n",
       "      <td>0.838201</td>\n",
       "      <td>0.982894</td>\n",
       "      <td>2.178845</td>\n",
       "      <td>-1.401341</td>\n",
       "      <td>-0.556660</td>\n",
       "      <td>-1.474132</td>\n",
       "      <td>0.231777</td>\n",
       "    </tr>\n",
       "    <tr>\n",
       "      <th>1</th>\n",
       "      <td>1.049550</td>\n",
       "      <td>-0.679237</td>\n",
       "      <td>0.552575</td>\n",
       "      <td>-0.189744</td>\n",
       "      <td>-0.588279</td>\n",
       "      <td>-0.733142</td>\n",
       "      <td>-0.091181</td>\n",
       "      <td>0.055133</td>\n",
       "      <td>-0.527307</td>\n",
       "      <td>-0.022304</td>\n",
       "      <td>-0.715470</td>\n",
       "      <td>-0.904270</td>\n",
       "    </tr>\n",
       "    <tr>\n",
       "      <th>2</th>\n",
       "      <td>0.518551</td>\n",
       "      <td>-0.976582</td>\n",
       "      <td>0.348647</td>\n",
       "      <td>-0.855804</td>\n",
       "      <td>-0.452603</td>\n",
       "      <td>-0.789262</td>\n",
       "      <td>-0.689846</td>\n",
       "      <td>-0.855029</td>\n",
       "      <td>-0.277583</td>\n",
       "      <td>0.645641</td>\n",
       "      <td>0.211782</td>\n",
       "      <td>-0.904270</td>\n",
       "    </tr>\n",
       "    <tr>\n",
       "      <th>3</th>\n",
       "      <td>-0.467589</td>\n",
       "      <td>-1.095520</td>\n",
       "      <td>0.552575</td>\n",
       "      <td>-0.789198</td>\n",
       "      <td>-0.344062</td>\n",
       "      <td>1.006560</td>\n",
       "      <td>0.507483</td>\n",
       "      <td>-1.124707</td>\n",
       "      <td>1.969934</td>\n",
       "      <td>-0.089099</td>\n",
       "      <td>1.560514</td>\n",
       "      <td>1.367823</td>\n",
       "    </tr>\n",
       "    <tr>\n",
       "      <th>4</th>\n",
       "      <td>0.821979</td>\n",
       "      <td>0.450674</td>\n",
       "      <td>2.048053</td>\n",
       "      <td>3.151655</td>\n",
       "      <td>-0.452603</td>\n",
       "      <td>0.613724</td>\n",
       "      <td>1.018109</td>\n",
       "      <td>1.909168</td>\n",
       "      <td>-1.526203</td>\n",
       "      <td>0.912819</td>\n",
       "      <td>-0.715470</td>\n",
       "      <td>-0.904270</td>\n",
       "    </tr>\n",
       "  </tbody>\n",
       "</table>\n",
       "</div>"
      ],
      "text/plain": [
       "         0         1         2         3         4         5         6   \\\n",
       "0 -0.164161 -0.441361  0.280670  3.473584 -0.316926  0.838201  0.982894   \n",
       "1  1.049550 -0.679237  0.552575 -0.189744 -0.588279 -0.733142 -0.091181   \n",
       "2  0.518551 -0.976582  0.348647 -0.855804 -0.452603 -0.789262 -0.689846   \n",
       "3 -0.467589 -1.095520  0.552575 -0.789198 -0.344062  1.006560  0.507483   \n",
       "4  0.821979  0.450674  2.048053  3.151655 -0.452603  0.613724  1.018109   \n",
       "\n",
       "         7         8         9         10        11  \n",
       "0  2.178845 -1.401341 -0.556660 -1.474132  0.231777  \n",
       "1  0.055133 -0.527307 -0.022304 -0.715470 -0.904270  \n",
       "2 -0.855029 -0.277583  0.645641  0.211782 -0.904270  \n",
       "3 -1.124707  1.969934 -0.089099  1.560514  1.367823  \n",
       "4  1.909168 -1.526203  0.912819 -0.715470 -0.904270  "
      ]
     },
     "execution_count": 274,
     "metadata": {},
     "output_type": "execute_result"
    }
   ],
   "source": [
    "data_standarization = pd.DataFrame(x_scaled2)\n",
    "data_standarization.head()"
   ]
  },
  {
   "cell_type": "code",
   "execution_count": 275,
   "id": "91d6fcbb-5edf-4e88-bad4-79de878419ea",
   "metadata": {},
   "outputs": [
    {
     "data": {
      "text/plain": [
       "1.0"
      ]
     },
     "execution_count": 275,
     "metadata": {},
     "output_type": "execute_result"
    }
   ],
   "source": [
    "np.std(x_scaled2)"
   ]
  },
  {
   "cell_type": "code",
   "execution_count": 276,
   "id": "7dafa021-4831-4e1e-9301-4d6d33c08024",
   "metadata": {},
   "outputs": [
    {
     "data": {
      "text/plain": [
       "-2.0547851172522654e-15"
      ]
     },
     "execution_count": 276,
     "metadata": {},
     "output_type": "execute_result"
    }
   ],
   "source": [
    "np.mean(x_scaled2)"
   ]
  },
  {
   "cell_type": "code",
   "execution_count": 194,
   "id": "56373c02-45d8-429b-a08b-b04ac028a0bc",
   "metadata": {},
   "outputs": [
    {
     "name": "stdout",
     "output_type": "stream",
     "text": [
      "<class 'pandas.core.frame.DataFrame'>\n",
      "RangeIndex: 6497 entries, 0 to 6496\n",
      "Data columns (total 13 columns):\n",
      " #   Column                Non-Null Count  Dtype  \n",
      "---  ------                --------------  -----  \n",
      " 0   type                  6497 non-null   object \n",
      " 1   fixed acidity         6487 non-null   float64\n",
      " 2   volatile acidity      6489 non-null   float64\n",
      " 3   citric acid           6494 non-null   float64\n",
      " 4   residual sugar        6495 non-null   float64\n",
      " 5   chlorides             6495 non-null   float64\n",
      " 6   free sulfur dioxide   6497 non-null   float64\n",
      " 7   total sulfur dioxide  6497 non-null   float64\n",
      " 8   density               6497 non-null   float64\n",
      " 9   pH                    6488 non-null   float64\n",
      " 10  sulphates             6493 non-null   float64\n",
      " 11  alcohol               6497 non-null   float64\n",
      " 12  quality               6497 non-null   int64  \n",
      "dtypes: float64(11), int64(1), object(1)\n",
      "memory usage: 660.0+ KB\n"
     ]
    }
   ],
   "source": [
    "dataset_split.info()"
   ]
  },
  {
   "cell_type": "markdown",
   "id": "299f2afc-79a7-4f3a-87ec-591d4997c7c2",
   "metadata": {},
   "source": [
    "## Mengubah tipe data salah satu atribut yang sebelumnya dengan float64 menjadi int64"
   ]
  },
  {
   "cell_type": "code",
   "execution_count": 292,
   "id": "86093117-1791-431f-a1a4-70563fc0d031",
   "metadata": {},
   "outputs": [
    {
     "name": "stdout",
     "output_type": "stream",
     "text": [
      "tipe data sebelum: \n"
     ]
    },
    {
     "data": {
      "text/plain": [
       "dtype('float64')"
      ]
     },
     "execution_count": 292,
     "metadata": {},
     "output_type": "execute_result"
    }
   ],
   "source": [
    "print(\"tipe data sebelum: \")\n",
    "df[\"pH\"].dtypes"
   ]
  },
  {
   "cell_type": "code",
   "execution_count": 298,
   "id": "e2c30a9d-3844-4e0f-ac50-9d3603bf33f4",
   "metadata": {},
   "outputs": [
    {
     "name": "stdout",
     "output_type": "stream",
     "text": [
      "tipe data sesudah: \n"
     ]
    },
    {
     "data": {
      "text/plain": [
       "dtype('O')"
      ]
     },
     "execution_count": 298,
     "metadata": {},
     "output_type": "execute_result"
    }
   ],
   "source": [
    "print(\"tipe data sesudah: \")\n",
    "dfganti = df[[\"pH\"]].astype(\"object\")\n",
    "dfganti[\"pH\"].dtypes"
   ]
  },
  {
   "cell_type": "markdown",
   "id": "2044be06-2b21-43cc-978e-1b475269b564",
   "metadata": {},
   "source": [
    "## One Hot Encoding"
   ]
  },
  {
   "cell_type": "code",
   "execution_count": 295,
   "id": "5d868fed-d2ff-4900-9580-d1cf63d5ceb4",
   "metadata": {},
   "outputs": [],
   "source": [
    "df = pd.read_csv(\"winequalityN.csv\")"
   ]
  },
  {
   "cell_type": "code",
   "execution_count": 280,
   "id": "e4080e8d-dc31-48ce-a1da-095a39218440",
   "metadata": {},
   "outputs": [],
   "source": [
    "from sklearn.preprocessing import OneHotEncoder"
   ]
  },
  {
   "cell_type": "code",
   "execution_count": 281,
   "id": "1e552f70-acdd-4822-999c-8b4a086fa154",
   "metadata": {},
   "outputs": [],
   "source": [
    "onehotencoder = OneHotEncoder(sparse=False)"
   ]
  },
  {
   "cell_type": "code",
   "execution_count": 283,
   "id": "645315cb-37d8-40a0-9cda-c2f561bdf634",
   "metadata": {},
   "outputs": [],
   "source": [
    "onehot = onehotencoder.fit_transform(df[['type']])"
   ]
  },
  {
   "cell_type": "code",
   "execution_count": 284,
   "id": "07339082-03e2-485c-bcc8-6e7516319d0a",
   "metadata": {},
   "outputs": [],
   "source": [
    "df_onehot = pd.DataFrame(onehot)"
   ]
  },
  {
   "cell_type": "code",
   "execution_count": 285,
   "id": "d685f3d6-f971-4d3a-b791-89240908d8c0",
   "metadata": {},
   "outputs": [
    {
     "data": {
      "text/html": [
       "<div>\n",
       "<style scoped>\n",
       "    .dataframe tbody tr th:only-of-type {\n",
       "        vertical-align: middle;\n",
       "    }\n",
       "\n",
       "    .dataframe tbody tr th {\n",
       "        vertical-align: top;\n",
       "    }\n",
       "\n",
       "    .dataframe thead th {\n",
       "        text-align: right;\n",
       "    }\n",
       "</style>\n",
       "<table border=\"1\" class=\"dataframe\">\n",
       "  <thead>\n",
       "    <tr style=\"text-align: right;\">\n",
       "      <th></th>\n",
       "      <th>0</th>\n",
       "      <th>1</th>\n",
       "    </tr>\n",
       "  </thead>\n",
       "  <tbody>\n",
       "    <tr>\n",
       "      <th>0</th>\n",
       "      <td>0.0</td>\n",
       "      <td>1.0</td>\n",
       "    </tr>\n",
       "    <tr>\n",
       "      <th>1</th>\n",
       "      <td>0.0</td>\n",
       "      <td>1.0</td>\n",
       "    </tr>\n",
       "    <tr>\n",
       "      <th>2</th>\n",
       "      <td>0.0</td>\n",
       "      <td>1.0</td>\n",
       "    </tr>\n",
       "    <tr>\n",
       "      <th>3</th>\n",
       "      <td>0.0</td>\n",
       "      <td>1.0</td>\n",
       "    </tr>\n",
       "    <tr>\n",
       "      <th>4</th>\n",
       "      <td>0.0</td>\n",
       "      <td>1.0</td>\n",
       "    </tr>\n",
       "  </tbody>\n",
       "</table>\n",
       "</div>"
      ],
      "text/plain": [
       "     0    1\n",
       "0  0.0  1.0\n",
       "1  0.0  1.0\n",
       "2  0.0  1.0\n",
       "3  0.0  1.0\n",
       "4  0.0  1.0"
      ]
     },
     "execution_count": 285,
     "metadata": {},
     "output_type": "execute_result"
    }
   ],
   "source": [
    "df_onehot.head()"
   ]
  },
  {
   "cell_type": "code",
   "execution_count": null,
   "id": "acebb90b-3ef2-44f3-b931-2ca02d06db34",
   "metadata": {},
   "outputs": [],
   "source": []
  }
 ],
 "metadata": {
  "kernelspec": {
   "display_name": "Python 3 (ipykernel)",
   "language": "python",
   "name": "python3"
  },
  "language_info": {
   "codemirror_mode": {
    "name": "ipython",
    "version": 3
   },
   "file_extension": ".py",
   "mimetype": "text/x-python",
   "name": "python",
   "nbconvert_exporter": "python",
   "pygments_lexer": "ipython3",
   "version": "3.10.7"
  }
 },
 "nbformat": 4,
 "nbformat_minor": 5
}
