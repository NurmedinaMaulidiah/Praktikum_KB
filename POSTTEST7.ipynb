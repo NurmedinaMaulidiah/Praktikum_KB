{
 "cells": [
  {
   "cell_type": "markdown",
   "id": "86034d4e-aca7-4122-b8c4-729409a6c009",
   "metadata": {},
   "source": [
    "# Nama : Nurmedina Maulidiah    \n",
    "# NIM  : 2109106012\n",
    "## Posttest 7 Kecerdasan Buatan (Pengenalan Tensor)"
   ]
  },
  {
   "cell_type": "markdown",
   "id": "948a3787-c706-47d2-b745-6864295f9fa3",
   "metadata": {},
   "source": [
    "## Import Libary"
   ]
  },
  {
   "cell_type": "code",
   "execution_count": 6,
   "id": "f2da55d9-5899-4f00-a115-03c6405e5157",
   "metadata": {},
   "outputs": [],
   "source": [
    "import tensorflow as tf"
   ]
  },
  {
   "cell_type": "markdown",
   "id": "6dc03e53-64c8-4c71-b1cf-a3cce4862f02",
   "metadata": {},
   "source": [
    "# Membuat Tensor"
   ]
  },
  {
   "cell_type": "markdown",
   "id": "3838b3a9-51a1-499a-84e1-60271e15c638",
   "metadata": {},
   "source": [
    "## Membuat Tensor dengan variable random_tensor dengan shape [5,5]"
   ]
  },
  {
   "cell_type": "code",
   "execution_count": 7,
   "id": "57794d14-1b67-4b71-b584-6bf117614f6e",
   "metadata": {},
   "outputs": [
    {
     "data": {
      "text/plain": [
       "array([[ 0.560855  , -0.687526  , -0.10960045,  0.7286616 ,  0.94300914],\n",
       "       [-0.6480309 , -0.97411764, -0.49935198, -0.91106695, -0.8070118 ],\n",
       "       [ 1.6458039 ,  0.13402535,  0.9267063 ,  1.5693231 ,  0.8819627 ],\n",
       "       [-0.79383236,  1.6901172 , -0.0040522 , -0.47295114,  0.2412777 ],\n",
       "       [-1.8602692 , -0.8628474 , -1.2628676 , -0.10913838,  0.8408096 ]],\n",
       "      dtype=float32)"
      ]
     },
     "execution_count": 7,
     "metadata": {},
     "output_type": "execute_result"
    }
   ],
   "source": [
    "random_tensor = tf.random.normal([5,5])\n",
    "random_tensor.numpy()"
   ]
  },
  {
   "cell_type": "markdown",
   "id": "b7e03e2b-bc55-43a5-8c88-765ca691ba8a",
   "metadata": {},
   "source": [
    "## Membuat Tensor dengan variable prime_tensor dengan shape [5,5]"
   ]
  },
  {
   "cell_type": "code",
   "execution_count": 8,
   "id": "c30692d9-d691-4011-ad16-867743ef9b51",
   "metadata": {},
   "outputs": [
    {
     "data": {
      "text/plain": [
       "array([[  2.,   3.,   5.,   7.,  11.],\n",
       "       [ 13.,  17.,  19.,  23.,  29.],\n",
       "       [ 31.,  37.,  41.,  43.,  47.],\n",
       "       [ 53.,  59.,  61.,  71.,  73.],\n",
       "       [ 79.,  83.,  89.,  97., 101.]], dtype=float32)"
      ]
     },
     "execution_count": 8,
     "metadata": {},
     "output_type": "execute_result"
    }
   ],
   "source": [
    "prime_tensor = tf.constant([2,3,5,7,11,13,17,19,23,29, 31, 37, 41, 43, 47, 53, 59, 61, 71, 73, 79, 83, 89, 97, 101], shape=[5,5], dtype=tf.float32)\n",
    "prime_tensor.numpy()"
   ]
  },
  {
   "cell_type": "markdown",
   "id": "27f85b61-cc1d-478f-bd83-deb9d709d0ca",
   "metadata": {},
   "source": [
    "# Menampilkan dimensi dari kedua variable tersebut"
   ]
  },
  {
   "cell_type": "code",
   "execution_count": 9,
   "id": "acf42d70-0404-4b26-87f0-cc0d3fc9469a",
   "metadata": {},
   "outputs": [
    {
     "data": {
      "text/plain": [
       "TensorShape([5, 5])"
      ]
     },
     "execution_count": 9,
     "metadata": {},
     "output_type": "execute_result"
    }
   ],
   "source": [
    "dim_display = tf.constant(['random_tensor'], shape=[5,5])\n",
    "dim_display.shape"
   ]
  },
  {
   "cell_type": "code",
   "execution_count": 10,
   "id": "df45b7bf-ecb9-4ccc-abfa-6098b7a23934",
   "metadata": {},
   "outputs": [
    {
     "data": {
      "text/plain": [
       "TensorShape([5, 5])"
      ]
     },
     "execution_count": 10,
     "metadata": {},
     "output_type": "execute_result"
    }
   ],
   "source": [
    "dim_display.get_shape()"
   ]
  },
  {
   "cell_type": "code",
   "execution_count": 11,
   "id": "713f4ece-6c8f-4277-b7ea-72a7fa39e334",
   "metadata": {},
   "outputs": [
    {
     "data": {
      "text/plain": [
       "TensorShape([5, 5])"
      ]
     },
     "execution_count": 11,
     "metadata": {},
     "output_type": "execute_result"
    }
   ],
   "source": [
    "dim_display1 = tf.constant(['prime_tensor'], shape=[5,5])\n",
    "dim_display1.shape"
   ]
  },
  {
   "cell_type": "code",
   "execution_count": 12,
   "id": "f5c0f7e7-3c90-44d0-a453-c95996e86b57",
   "metadata": {},
   "outputs": [
    {
     "data": {
      "text/plain": [
       "TensorShape([5, 5])"
      ]
     },
     "execution_count": 12,
     "metadata": {},
     "output_type": "execute_result"
    }
   ],
   "source": [
    "dim_display1.get_shape()"
   ]
  },
  {
   "cell_type": "markdown",
   "id": "6164cad1-7919-4f7d-84d0-1e23effd28df",
   "metadata": {},
   "source": [
    "# Operasi Aritmtika dari variable random_tensor dan variable"
   ]
  },
  {
   "cell_type": "markdown",
   "id": "a580f9f0-1c73-4a57-b50f-32be6500f260",
   "metadata": {},
   "source": [
    "## Penjumlahan"
   ]
  },
  {
   "cell_type": "code",
   "execution_count": 13,
   "id": "774d1ccd-65e4-4b48-b228-f02a4326f5ec",
   "metadata": {},
   "outputs": [
    {
     "data": {
      "text/plain": [
       "array([[  2.560855 ,   2.312474 ,   4.8903995,   7.7286615,  11.943009 ],\n",
       "       [ 12.351969 ,  16.025883 ,  18.500648 ,  22.088934 ,  28.192987 ],\n",
       "       [ 32.645805 ,  37.134026 ,  41.926704 ,  44.569324 ,  47.88196  ],\n",
       "       [ 52.20617  ,  60.690117 ,  60.99595  ,  70.52705  ,  73.24128  ],\n",
       "       [ 77.13973  ,  82.13715  ,  87.73713  ,  96.89086  , 101.84081  ]],\n",
       "      dtype=float32)"
      ]
     },
     "execution_count": 13,
     "metadata": {},
     "output_type": "execute_result"
    }
   ],
   "source": [
    "add = random_tensor + prime_tensor\n",
    "add.numpy()"
   ]
  },
  {
   "cell_type": "markdown",
   "id": "ff88616e-f10f-4d06-8fa6-b4584ca0d8ca",
   "metadata": {},
   "source": [
    "## Pengurangan"
   ]
  },
  {
   "cell_type": "code",
   "execution_count": 14,
   "id": "37a763ae-9edb-4401-a1fa-3a6a8262196c",
   "metadata": {},
   "outputs": [
    {
     "data": {
      "text/plain": [
       "array([[  -1.4391451,   -3.687526 ,   -5.1096005,   -6.2713385,\n",
       "         -10.056991 ],\n",
       "       [ -13.648031 ,  -17.974117 ,  -19.499352 ,  -23.911066 ,\n",
       "         -29.807013 ],\n",
       "       [ -29.354197 ,  -36.865974 ,  -40.073296 ,  -41.430676 ,\n",
       "         -46.11804  ],\n",
       "       [ -53.79383  ,  -57.309883 ,  -61.00405  ,  -71.47295  ,\n",
       "         -72.75872  ],\n",
       "       [ -80.86027  ,  -83.86285  ,  -90.26287  ,  -97.10914  ,\n",
       "        -100.15919  ]], dtype=float32)"
      ]
     },
     "execution_count": 14,
     "metadata": {},
     "output_type": "execute_result"
    }
   ],
   "source": [
    "add = random_tensor - prime_tensor\n",
    "add.numpy()"
   ]
  },
  {
   "cell_type": "markdown",
   "id": "d7773726-3dd3-48c1-ac6e-98cd7651c6b3",
   "metadata": {},
   "source": [
    "## Perkalian"
   ]
  },
  {
   "cell_type": "code",
   "execution_count": 32,
   "id": "5c257a64-76b3-4012-87bf-a99ef2b50ed5",
   "metadata": {},
   "outputs": [
    {
     "data": {
      "text/plain": [
       "array([[  1.51127   ,   9.077652  ,   4.0895934 ,   1.7468362 ,\n",
       "        -11.548924  ],\n",
       "       [ -3.703165  ,  -8.9441595 , -17.545458  , -12.842205  ,\n",
       "        -14.309954  ],\n",
       "       [ 74.63964   ,  80.89042   ,   7.959754  ,  69.018105  ,\n",
       "         24.572147  ],\n",
       "       [-10.2628    , -32.466297  ,  52.31611   , -81.495964  ,\n",
       "        -18.67848   ],\n",
       "       [  1.3819202 ,  -0.47728068, 113.84883   , -90.767235  ,\n",
       "        -71.610054  ]], dtype=float32)"
      ]
     },
     "execution_count": 32,
     "metadata": {},
     "output_type": "execute_result"
    }
   ],
   "source": [
    "add = random_tensor * prime_tensor\n",
    "add.numpy()"
   ]
  },
  {
   "cell_type": "markdown",
   "id": "56931bcd-13df-493c-86b9-7108efd2d650",
   "metadata": {},
   "source": [
    "## Pembagian"
   ]
  },
  {
   "cell_type": "code",
   "execution_count": 35,
   "id": "d43e0b3f-6e4f-4bc8-8203-8a008c46ba15",
   "metadata": {},
   "outputs": [
    {
     "data": {
      "text/plain": [
       "array([[ 3.7781751e-01,  1.0086280e+00,  1.6358374e-01,  3.5649717e-02,\n",
       "        -9.5445655e-02],\n",
       "       [-2.1912219e-02, -3.0948650e-02, -4.8602376e-02, -2.4276381e-02,\n",
       "        -1.7015403e-02],\n",
       "       [ 7.7668719e-02,  5.9087232e-02,  4.7351304e-03,  3.7327264e-02,\n",
       "         1.1123653e-02],\n",
       "       [-3.6535424e-03, -9.3267160e-03,  1.4059690e-02, -1.6166627e-02,\n",
       "        -3.5050630e-03],\n",
       "       [ 2.2142609e-04, -6.9281567e-05,  1.4373037e-02, -9.6468525e-03,\n",
       "        -7.0199054e-03]], dtype=float32)"
      ]
     },
     "execution_count": 35,
     "metadata": {},
     "output_type": "execute_result"
    }
   ],
   "source": [
    "add = random_tensor / prime_tensor\n",
    "add.numpy()"
   ]
  },
  {
   "cell_type": "markdown",
   "id": "2cae432d-571d-4565-b93f-fd3c31d9c796",
   "metadata": {},
   "source": [
    "## Pangkat dua"
   ]
  },
  {
   "cell_type": "code",
   "execution_count": 36,
   "id": "0a357bd8-8a79-4dc1-bfb3-9df84f347ff6",
   "metadata": {},
   "outputs": [
    {
     "data": {
      "text/plain": [
       "array([[ 5.7098430e-01,  2.7704912e+01,  3.6605871e-01,  6.0266902e-05,\n",
       "        -1.7085878e+00],\n",
       "       [-8.1317943e-08, -1.8135961e-05, -2.2019686e-01, -1.5099791e-06,\n",
       "        -1.2704765e-09],\n",
       "       [ 6.7583895e+11,  3.7044906e+12,  6.4975204e-30,  6.8591027e+08,\n",
       "         5.7839841e-14],\n",
       "       [-1.6235688e-38, -4.9461123e-16,  8.5435961e-05, -1.7836951e+04,\n",
       "        -0.0000000e+00],\n",
       "       [ 0.0000000e+00, -0.0000000e+00,  3.2925445e+09, -1.5931828e-03,\n",
       "        -8.2397597e-16]], dtype=float32)"
      ]
     },
     "execution_count": 36,
     "metadata": {},
     "output_type": "execute_result"
    }
   ],
   "source": [
    "add = random_tensor ** prime_tensor\n",
    "add.numpy()"
   ]
  },
  {
   "cell_type": "markdown",
   "id": "df48b5ca-abd4-4d1d-a6fb-62d9b4f6f7f9",
   "metadata": {},
   "source": [
    "# Menampilkan nilai maksimum dan minimum dari variable random_tensor"
   ]
  },
  {
   "cell_type": "code",
   "execution_count": 31,
   "id": "899d31a8-a64a-4491-8096-19c30f6270e3",
   "metadata": {},
   "outputs": [
    {
     "data": {
      "text/plain": [
       "<tf.Tensor: shape=(5,), dtype=int64, numpy=array([2, 0, 4, 2, 2], dtype=int64)>"
      ]
     },
     "execution_count": 31,
     "metadata": {},
     "output_type": "execute_result"
    }
   ],
   "source": [
    "max = tf.argmax(random_tensor, axis=0)\n",
    "max"
   ]
  },
  {
   "cell_type": "code",
   "execution_count": 19,
   "id": "64a26045-ef46-4dc4-93d9-fad0b8b4fccd",
   "metadata": {},
   "outputs": [
    {
     "data": {
      "text/plain": [
       "<tf.Tensor: shape=(5,), dtype=int64, numpy=array([4, 0, 4, 3, 2], dtype=int64)>"
      ]
     },
     "execution_count": 19,
     "metadata": {},
     "output_type": "execute_result"
    }
   ],
   "source": [
    "min = tf.argmin(random_tensor, axis=0)\n",
    "min"
   ]
  },
  {
   "cell_type": "markdown",
   "id": "ab28dbcd-f284-48ae-888c-88a3a04ff891",
   "metadata": {},
   "source": [
    "# Menampilkan hasil dari penggabungan variable random_tensor dengan prime_tensor (concatenation)"
   ]
  },
  {
   "cell_type": "code",
   "execution_count": 16,
   "id": "f39dd008-72b7-4555-992f-8c7ae81b14f7",
   "metadata": {},
   "outputs": [
    {
     "data": {
      "text/plain": [
       "array([[ 5.60854971e-01, -6.87525988e-01, -1.09600447e-01,\n",
       "         7.28661597e-01,  9.43009138e-01],\n",
       "       [-6.48030877e-01, -9.74117637e-01, -4.99351978e-01,\n",
       "        -9.11066949e-01, -8.07011783e-01],\n",
       "       [ 1.64580393e+00,  1.34025350e-01,  9.26706314e-01,\n",
       "         1.56932306e+00,  8.81962717e-01],\n",
       "       [-7.93832362e-01,  1.69011724e+00, -4.05220082e-03,\n",
       "        -4.72951144e-01,  2.41277695e-01],\n",
       "       [-1.86026919e+00, -8.62847388e-01, -1.26286757e+00,\n",
       "        -1.09138384e-01,  8.40809584e-01],\n",
       "       [ 2.00000000e+00,  3.00000000e+00,  5.00000000e+00,\n",
       "         7.00000000e+00,  1.10000000e+01],\n",
       "       [ 1.30000000e+01,  1.70000000e+01,  1.90000000e+01,\n",
       "         2.30000000e+01,  2.90000000e+01],\n",
       "       [ 3.10000000e+01,  3.70000000e+01,  4.10000000e+01,\n",
       "         4.30000000e+01,  4.70000000e+01],\n",
       "       [ 5.30000000e+01,  5.90000000e+01,  6.10000000e+01,\n",
       "         7.10000000e+01,  7.30000000e+01],\n",
       "       [ 7.90000000e+01,  8.30000000e+01,  8.90000000e+01,\n",
       "         9.70000000e+01,  1.01000000e+02]], dtype=float32)"
      ]
     },
     "execution_count": 16,
     "metadata": {},
     "output_type": "execute_result"
    }
   ],
   "source": [
    "random_prime = tf.concat([random_tensor, prime_tensor], axis =0)\n",
    "random_prime.numpy()"
   ]
  },
  {
   "cell_type": "markdown",
   "id": "289f34b7-0d68-4bcc-8c9f-1bb4e5ffe8fa",
   "metadata": {},
   "source": [
    "# Tampilkan hasil sorting dari kedua variable di atas (descending)"
   ]
  },
  {
   "cell_type": "markdown",
   "id": "b8c8adad-77c9-4426-8502-0fcf2a5a662a",
   "metadata": {},
   "source": [
    "## Sorting Variable random_tensor"
   ]
  },
  {
   "cell_type": "code",
   "execution_count": 17,
   "id": "3d820605-79e0-4f25-bd4d-9d5af1d44644",
   "metadata": {},
   "outputs": [
    {
     "data": {
      "text/plain": [
       "array([[ 0.94300914,  0.7286616 ,  0.560855  , -0.10960045, -0.687526  ],\n",
       "       [-0.49935198, -0.6480309 , -0.8070118 , -0.91106695, -0.97411764],\n",
       "       [ 1.6458039 ,  1.5693231 ,  0.9267063 ,  0.8819627 ,  0.13402535],\n",
       "       [ 1.6901172 ,  0.2412777 , -0.0040522 , -0.47295114, -0.79383236],\n",
       "       [ 0.8408096 , -0.10913838, -0.8628474 , -1.2628676 , -1.8602692 ]],\n",
       "      dtype=float32)"
      ]
     },
     "execution_count": 17,
     "metadata": {},
     "output_type": "execute_result"
    }
   ],
   "source": [
    "tf_sort = tf.sort(random_tensor, direction=\"DESCENDING\")\n",
    "tf_sort.numpy()"
   ]
  },
  {
   "cell_type": "code",
   "execution_count": 18,
   "id": "39c57ddf-5432-408c-acd1-0b67e359114f",
   "metadata": {},
   "outputs": [
    {
     "data": {
      "text/plain": [
       "array([[ 11.,   7.,   5.,   3.,   2.],\n",
       "       [ 29.,  23.,  19.,  17.,  13.],\n",
       "       [ 47.,  43.,  41.,  37.,  31.],\n",
       "       [ 73.,  71.,  61.,  59.,  53.],\n",
       "       [101.,  97.,  89.,  83.,  79.]], dtype=float32)"
      ]
     },
     "execution_count": 18,
     "metadata": {},
     "output_type": "execute_result"
    }
   ],
   "source": [
    "tf_sort = tf.sort(prime_tensor, direction=\"DESCENDING\")\n",
    "tf_sort.numpy()"
   ]
  },
  {
   "cell_type": "code",
   "execution_count": null,
   "id": "b1982d95-310d-4149-a7e4-1befc3c92bb3",
   "metadata": {},
   "outputs": [],
   "source": []
  }
 ],
 "metadata": {
  "kernelspec": {
   "display_name": "Python 3 (ipykernel)",
   "language": "python",
   "name": "python3"
  },
  "language_info": {
   "codemirror_mode": {
    "name": "ipython",
    "version": 3
   },
   "file_extension": ".py",
   "mimetype": "text/x-python",
   "name": "python",
   "nbconvert_exporter": "python",
   "pygments_lexer": "ipython3",
   "version": "3.10.7"
  }
 },
 "nbformat": 4,
 "nbformat_minor": 5
}
